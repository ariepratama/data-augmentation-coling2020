{
  "cells": [
    {
      "cell_type": "markdown",
      "metadata": {
        "id": "view-in-github",
        "colab_type": "text"
      },
      "source": [
        "<a href=\"https://colab.research.google.com/github/ariepratama/data-augmentation-coling2020/blob/main/Training_language_model_mixed_with_pos_tags_2.ipynb\" target=\"_parent\"><img src=\"https://colab.research.google.com/assets/colab-badge.svg\" alt=\"Open In Colab\"/></a>"
      ]
    },
    {
      "cell_type": "code",
      "execution_count": null,
      "metadata": {
        "colab": {
          "base_uri": "https://localhost:8080/"
        },
        "id": "6-cHGOdY-OoL",
        "outputId": "5e12256c-b6d4-42cd-c718-9ca58341e300"
      },
      "outputs": [
        {
          "output_type": "stream",
          "name": "stdout",
          "text": [
            "\u001b[K     |████████████████████████████████| 4.7 MB 7.9 MB/s \n",
            "\u001b[K     |████████████████████████████████| 365 kB 48.2 MB/s \n",
            "\u001b[K     |████████████████████████████████| 574 kB 54.8 MB/s \n",
            "\u001b[K     |████████████████████████████████| 596 kB 43.8 MB/s \n",
            "\u001b[K     |████████████████████████████████| 101 kB 8.2 MB/s \n",
            "\u001b[K     |████████████████████████████████| 6.6 MB 36.8 MB/s \n",
            "\u001b[K     |████████████████████████████████| 115 kB 49.9 MB/s \n",
            "\u001b[K     |████████████████████████████████| 212 kB 52.9 MB/s \n",
            "\u001b[K     |████████████████████████████████| 141 kB 54.0 MB/s \n",
            "\u001b[K     |████████████████████████████████| 127 kB 53.6 MB/s \n",
            "\u001b[K     |████████████████████████████████| 197 kB 58.4 MB/s \n",
            "\u001b[?25h  Building wheel for emoji (setup.py) ... \u001b[?25l\u001b[?25hdone\n"
          ]
        }
      ],
      "source": [
        "!pip install -q transformers datasets stanza"
      ]
    },
    {
      "cell_type": "code",
      "execution_count": null,
      "metadata": {
        "colab": {
          "base_uri": "https://localhost:8080/"
        },
        "id": "osrF_kWU-gIR",
        "outputId": "2f14ac82-d48c-4b0f-b9b3-aa5356643e92"
      },
      "outputs": [
        {
          "output_type": "stream",
          "name": "stdout",
          "text": [
            "stanza                        1.4.0\n"
          ]
        }
      ],
      "source": [
        "!pip list | grep stanza"
      ]
    },
    {
      "cell_type": "code",
      "execution_count": null,
      "metadata": {
        "id": "KL0yw-V3-BLS"
      },
      "outputs": [],
      "source": [
        "import torch\n",
        "from torch.utils.data import DataLoader\n",
        "from transformers import Trainer\n",
        "from transformers import TrainingArguments\n",
        "from transformers import DataCollatorForLanguageModeling\n",
        "from transformers import BertModel, BertTokenizer, BertForMaskedLM\n",
        "from datasets import load_dataset\n",
        "import stanza\n",
        "import numpy as np\n",
        "from nltk import Tree, ParentedTree\n",
        "from typing import *\n",
        "from transformers.trainer import *\n",
        "from transformers import DefaultDataCollator\n",
        "from transformers import EarlyStoppingCallback"
      ]
    },
    {
      "cell_type": "code",
      "execution_count": null,
      "metadata": {
        "colab": {
          "base_uri": "https://localhost:8080/",
          "height": 292,
          "referenced_widgets": [
            "3c0cd275e8c24d67a5e4f2869724c392",
            "548a6f2710cd418dad2e93da65c7c4cc",
            "38101342aa3d4c3da3f3b3607dddaa4b",
            "a7d9ede146c04f1c9dd09d511bd136e2",
            "a363802801ba4356a3b60f34719eac7e",
            "d1c5d03e7198479098fdf61ff929f6a8",
            "69967f8f9a3342ef88c4c7e137b2a979",
            "54b1e9e15ec1418e8f008d114dada525",
            "ce28f9ece1f84734b2b250123f75e7e1",
            "d4b1e4f885084d999dcb2478ceab268c",
            "b11ef1b5fce74699a377011f5b59c7e6"
          ]
        },
        "id": "RyN_vYOP-ku_",
        "outputId": "d4e96b61-7dba-4a45-d7af-5cdd9d9b878f"
      },
      "outputs": [
        {
          "output_type": "display_data",
          "data": {
            "text/plain": [
              "Downloading https://raw.githubusercontent.com/stanfordnlp/stanza-resources/main/resources_1.4.0.json:   0%|   …"
            ],
            "application/vnd.jupyter.widget-view+json": {
              "version_major": 2,
              "version_minor": 0,
              "model_id": "3c0cd275e8c24d67a5e4f2869724c392"
            }
          },
          "metadata": {}
        },
        {
          "output_type": "stream",
          "name": "stderr",
          "text": [
            "2022-08-08 01:32:33 INFO: Loading these models for language: en (English):\n",
            "===========================\n",
            "| Processor    | Package  |\n",
            "---------------------------\n",
            "| tokenize     | combined |\n",
            "| pos          | combined |\n",
            "| constituency | wsj      |\n",
            "===========================\n",
            "\n",
            "2022-08-08 01:32:33 INFO: Use device: gpu\n",
            "2022-08-08 01:32:33 INFO: Loading: tokenize\n",
            "2022-08-08 01:32:33 INFO: Loading: pos\n",
            "2022-08-08 01:32:38 INFO: Loading: constituency\n",
            "2022-08-08 01:32:40 INFO: Done loading processors!\n"
          ]
        }
      ],
      "source": [
        "NLP = stanza.Pipeline(lang=\"en\", processors=\"tokenize,pos,constituency\", tokenize_pretokenized=True)"
      ]
    },
    {
      "cell_type": "code",
      "execution_count": null,
      "metadata": {
        "colab": {
          "base_uri": "https://localhost:8080/"
        },
        "id": "ftb1uvSi-pIk",
        "outputId": "d061bb7d-75a8-43bf-e38f-cc7e227b3aeb"
      },
      "outputs": [
        {
          "output_type": "stream",
          "name": "stderr",
          "text": [
            "Some weights of the model checkpoint at allenai/scibert_scivocab_cased were not used when initializing BertForMaskedLM: ['cls.seq_relationship.weight', 'cls.seq_relationship.bias']\n",
            "- This IS expected if you are initializing BertForMaskedLM from the checkpoint of a model trained on another task or with another architecture (e.g. initializing a BertForSequenceClassification model from a BertForPreTraining model).\n",
            "- This IS NOT expected if you are initializing BertForMaskedLM from the checkpoint of a model that you expect to be exactly identical (initializing a BertForSequenceClassification model from a BertForSequenceClassification model).\n"
          ]
        }
      ],
      "source": [
        "model_name = \"allenai/scibert_scivocab_cased\"\n",
        "model = BertForMaskedLM.from_pretrained(model_name)\n",
        "tokenizer = BertTokenizer.from_pretrained(model_name)"
      ]
    },
    {
      "cell_type": "code",
      "execution_count": null,
      "metadata": {
        "colab": {
          "base_uri": "https://localhost:8080/"
        },
        "id": "ZXD10NYO-8JH",
        "outputId": "4bb9d0bc-75a5-44ce-e294-a0c4fcb9a1c2"
      },
      "outputs": [
        {
          "output_type": "stream",
          "name": "stderr",
          "text": [
            "Reusing dataset conll2003 (/root/.cache/huggingface/datasets/conll2003/conll2003/1.0.0/9a4d16a94f8674ba3466315300359b0acd891b68b6c8743ddf60b9c702adce98)\n"
          ]
        }
      ],
      "source": [
        "# last training data is empty|\n",
        "train_dataset = load_dataset('conll2003', split='train[:-1]')"
      ]
    },
    {
      "cell_type": "code",
      "source": [
        "val_dataset = load_dataset('conll2003', split='validation')"
      ],
      "metadata": {
        "colab": {
          "base_uri": "https://localhost:8080/"
        },
        "id": "UtIzrm-ohB8M",
        "outputId": "b3446a5c-7bde-4dc3-c374-5b4c56a3939a"
      },
      "execution_count": null,
      "outputs": [
        {
          "output_type": "stream",
          "name": "stderr",
          "text": [
            "Reusing dataset conll2003 (/root/.cache/huggingface/datasets/conll2003/conll2003/1.0.0/9a4d16a94f8674ba3466315300359b0acd891b68b6c8743ddf60b9c702adce98)\n"
          ]
        }
      ]
    },
    {
      "cell_type": "code",
      "source": [
        "print(f\"training dataset length: {len(train_dataset)}\")\n",
        "print(f\"validation dataset length: {len(val_dataset)}\")"
      ],
      "metadata": {
        "colab": {
          "base_uri": "https://localhost:8080/"
        },
        "id": "lCTnSjg0hGVl",
        "outputId": "d5134d9b-4dcf-4147-8d60-ba9b4d1116c7"
      },
      "execution_count": null,
      "outputs": [
        {
          "output_type": "stream",
          "name": "stdout",
          "text": [
            "training dataset length: 14040\n",
            "validation dataset length: 3250\n"
          ]
        }
      ]
    },
    {
      "cell_type": "code",
      "execution_count": null,
      "metadata": {
        "id": "zxnEXkE5_Kx0"
      },
      "outputs": [],
      "source": [
        "postoi = {'\"': 0, \"''\": 1, '#': 2, '$': 3, '(': 4, ')': 5, ',': 6, '.': 7, ':': 8, '``': 9, 'CC': 10, 'CD': 11, 'DT': 12,\n",
        " 'EX': 13, 'FW': 14, 'IN': 15, 'JJ': 16, 'JJR': 17, 'JJS': 18, 'LS': 19, 'MD': 20, 'NN': 21, 'NNP': 22, 'NNPS': 23,\n",
        " 'NNS': 24, 'NN|SYM': 25, 'PDT': 26, 'POS': 27, 'PRP': 28, 'PRP$': 29, 'RB': 30, 'RBR': 31, 'RBS': 32, 'RP': 33,\n",
        " 'SYM': 34, 'TO': 35, 'UH': 36, 'VB': 37, 'VBD': 38, 'VBG': 39, 'VBN': 40, 'VBP': 41, 'VBZ': 42, 'WDT': 43,\n",
        " 'WP': 44, 'WP$': 45, 'WRB': 46}\n",
        "\n",
        "# itopos = {v: k for k,v in postoi.items()}\n",
        "# taglist = ['LS', 'TO', 'VBN', \"''\", 'WP', 'UH', 'VBG', 'JJ', 'VBZ', '--', 'VBP', 'NN', 'DT', 'PRP', ':', 'WP$', 'NNPS', 'PRP$', 'WDT', '(', ')', '.', ',', '``', '$', 'RB', 'RBR', 'RBS', 'VBD', 'IN', 'FW', 'RP', 'JJR', 'JJS', 'PDT', 'MD', 'VB', 'WRB', 'NNP', 'EX', 'NNS', 'SYM', 'CC', 'CD', 'POS']\n",
        "# postoi = {v: i for i, v in enumerate(taglist)}\n",
        "itopos = {v: k for k,v in postoi.items()}"
      ]
    },
    {
      "cell_type": "code",
      "execution_count": null,
      "metadata": {
        "colab": {
          "base_uri": "https://localhost:8080/"
        },
        "id": "j8U0ifs1_ODc",
        "outputId": "5a8d397c-e8a0-4f33-ba00-3700fd5b6091"
      },
      "outputs": [
        {
          "output_type": "execute_result",
          "data": {
            "text/plain": [
              "Embedding(62284, 768)"
            ]
          },
          "metadata": {},
          "execution_count": 8
        }
      ],
      "source": [
        "tokenizer.add_tokens([pos.lower() for pos in postoi.keys()])\n",
        "tokenizer.add_tokens([pos.upper() for pos in postoi.keys()])\n",
        "model.resize_token_embeddings(len(tokenizer) * 2)"
      ]
    },
    {
      "cell_type": "code",
      "execution_count": null,
      "metadata": {
        "id": "f8XsI5r91-KG"
      },
      "outputs": [],
      "source": [
        "def tag_tokens(sentences: Union[List[Text], List[List[Text]]], nlp=NLP, lower_tag: bool = True) -> Union[List[Tuple[Text, Text]], List[List[Tuple[Text, Text]]]]:\n",
        "  \"\"\"convert list of tokens to tuple of [tag, token]\n",
        "  \"\"\"\n",
        "  results = []\n",
        "  document_texts = [\" \".join(sentence) for sentence in sentences]\n",
        "  in_docs = [stanza.Document([], text=document_text) for document_text in document_texts]\n",
        "  stanza_docs = NLP(in_docs)\n",
        "\n",
        "  for doc in stanza_docs:\n",
        "    tag_token_result = []\n",
        "    for preterminal in doc.sentences[0].constituency.yield_preterminals():\n",
        "      tag = preterminal.label\n",
        "      if lower_tag:\n",
        "        tag = tag.lower()\n",
        "        \n",
        "      token = preterminal.children[0].label\n",
        "      tag_token_result.append((tag, token))\n",
        "    results.append(tag_token_result)\n",
        "  return results\n"
      ]
    },
    {
      "cell_type": "code",
      "execution_count": null,
      "metadata": {
        "id": "8PXCgrz97Zjn"
      },
      "outputs": [],
      "source": [
        "def random_replace(sentences: List[List[Tuple[Text, Text]]], p=0.2) -> List[List[Text]]:\n",
        "  results = []\n",
        "  for sentence in sentences:\n",
        "    final_text = []\n",
        "    for tag, token in sentence:\n",
        "      coin_toss_head = np.random.binomial(1, 0.5)\n",
        "      new_token = token\n",
        "      if coin_toss_head:\n",
        "        new_token = tag\n",
        "\n",
        "      final_text.append(new_token)\n",
        "    results.append(final_text)\n",
        "  return results"
      ]
    },
    {
      "cell_type": "code",
      "source": [
        "\n",
        "def augment_and_mask(sentences: List[List[Text]], posset: Set[Text], \n",
        "                     mask_token: Text, limit=10) -> List[List[Text]]:\n",
        "  \"\"\" Produced 1 -> n sentences, for each sentence, \n",
        "      automatically generate masked token on each token that deemed as pos tag / \n",
        "      consituent tag\n",
        "  \"\"\"\n",
        "  resulting_sentences = []\n",
        "  for sentence in sentences:\n",
        "    potential_token_ids = set()\n",
        "\n",
        "    for token_id, token in enumerate(sentence):\n",
        "      if token in posset:\n",
        "        potential_token_ids.add(token_id)\n",
        "    \n",
        "    for token_id in potential_token_ids:\n",
        "      augmented_sentence = [token for token in sentence]\n",
        "      augmented_sentence[token_id] = mask_token\n",
        "      resulting_sentences.append(augmented_sentence)\n",
        "\n",
        "  return resulting_sentences\n"
      ],
      "metadata": {
        "id": "Qrhj5rInENnv"
      },
      "execution_count": null,
      "outputs": []
    },
    {
      "cell_type": "code",
      "execution_count": null,
      "metadata": {
        "id": "mO1WQZU5_P93"
      },
      "outputs": [],
      "source": [
        "posset = set(postoi.keys()).union(set([k.lower() for k in  postoi.keys()]))\n",
        "\n",
        "def preprocess(datum, replace_to_pos_prob=0.2, posset=posset):\n",
        "    \"\"\"\n",
        "    1. tag tokens with constiuent\n",
        "    2. randomly replace token with the constiuent\n",
        "    \"\"\"\n",
        "    tagged_tokens = tag_tokens(datum[\"tokens\"])\n",
        "    final_tokens = random_replace(tagged_tokens)\n",
        "    \n",
        "    augmented_sentences = [\n",
        "        augment_and_mask([sentence], posset, tokenizer.mask_token)\n",
        "        for sentence in final_tokens\n",
        "    ]\n",
        "    flattened_augmented_sentences = [\n",
        "        sentence\n",
        "        for doc in augmented_sentences\n",
        "        for sentence in doc\n",
        "    ]\n",
        "    \n",
        "    \n",
        "    tokenized = tokenizer(flattened_augmented_sentences, padding=False, is_split_into_words=True)\n",
        "    del tokenized[\"token_type_ids\"]\n",
        "    \n",
        "    return tokenized"
      ]
    },
    {
      "cell_type": "code",
      "source": [
        "encoded_train_dataset = train_dataset.map(\n",
        "    preprocess, \n",
        "    batched=True, \n",
        "    batch_size=500,\n",
        "    remove_columns=[\"id\", \"tokens\", \"pos_tags\", \"chunk_tags\", \"ner_tags\"]\n",
        ")"
      ],
      "metadata": {
        "colab": {
          "base_uri": "https://localhost:8080/",
          "height": 49,
          "referenced_widgets": [
            "d116184af1d04b8083ed97007305c091",
            "fca4b47ec4f74756a31c23a02b5b458c",
            "989d3c23261a427290a3869648a44610",
            "6d4b93880897468189beac11a1a37026",
            "167a836407744b78b730264874851569",
            "c76e3b83d32444348a251396cdb5184a",
            "aea50851ac4c440285fb131e41ac110e",
            "68c4e364e3d146fb9a1bfce7f9ba5d9a",
            "b4d27a05e572466d9c1c962f94c79e32",
            "247995a88e5145388973e026202d6645",
            "9fbf6fc38f574bff8ea96f6a9631479b"
          ]
        },
        "id": "JBBexHkMy0lZ",
        "outputId": "dfa3984b-e4c2-4cae-d544-c6bd769144e4"
      },
      "execution_count": null,
      "outputs": [
        {
          "output_type": "display_data",
          "data": {
            "text/plain": [
              "  0%|          | 0/29 [00:00<?, ?ba/s]"
            ],
            "application/vnd.jupyter.widget-view+json": {
              "version_major": 2,
              "version_minor": 0,
              "model_id": "d116184af1d04b8083ed97007305c091"
            }
          },
          "metadata": {}
        }
      ]
    },
    {
      "cell_type": "code",
      "source": [
        "tokenizer.decode(\n",
        "    [y for x in encoded_train_dataset[\"input_ids\"][:15] for y in x]\n",
        ").split(\"[SEP]\")"
      ],
      "metadata": {
        "colab": {
          "base_uri": "https://localhost:8080/"
        },
        "id": "DCiAE-W-N7rE",
        "outputId": "9a6fa793-1fa5-4eef-b274-d932d9e98929"
      },
      "execution_count": null,
      "outputs": [
        {
          "output_type": "execute_result",
          "data": {
            "text/plain": [
              "['[CLS] [MASK] rejects jj nn to boycott jj nn. ',\n",
              " ' [CLS] nnp rejects [MASK] nn to boycott jj nn. ',\n",
              " ' [CLS] nnp rejects jj [MASK] to boycott jj nn. ',\n",
              " ' [CLS] nnp rejects jj nn [MASK] boycott jj nn. ',\n",
              " ' [CLS] nnp rejects jj nn to boycott [MASK] nn. ',\n",
              " ' [CLS] nnp rejects jj nn to boycott jj [MASK]. ',\n",
              " ' [CLS] nnp rejects jj nn to boycott jj nn [MASK] ',\n",
              " ' [CLS] brussels [MASK] ',\n",
              " ' [CLS] the [MASK] commission said on nnp prp disagreed in jj advice to consumers to shun jj lamb in nns determine whether mad cow nn md be transmitted in sheep. ',\n",
              " ' [CLS] the jj commission said on [MASK] prp disagreed in jj advice to consumers to shun jj lamb in nns determine whether mad cow nn md be transmitted in sheep. ',\n",
              " ' [CLS] the jj commission said on nnp [MASK] disagreed in jj advice to consumers to shun jj lamb in nns determine whether mad cow nn md be transmitted in sheep. ',\n",
              " ' [CLS] the jj commission said on nnp prp disagreed [MASK] jj advice to consumers to shun jj lamb in nns determine whether mad cow nn md be transmitted in sheep. ',\n",
              " ' [CLS] the jj commission said on nnp prp disagreed in [MASK] advice to consumers to shun jj lamb in nns determine whether mad cow nn md be transmitted in sheep. ',\n",
              " ' [CLS] the jj commission said on nnp prp disagreed in jj advice [MASK] consumers to shun jj lamb in nns determine whether mad cow nn md be transmitted in sheep. ',\n",
              " ' [CLS] the jj commission said on nnp prp disagreed in jj advice to consumers [MASK] shun jj lamb in nns determine whether mad cow nn md be transmitted in sheep. ',\n",
              " '']"
            ]
          },
          "metadata": {},
          "execution_count": 14
        }
      ]
    },
    {
      "cell_type": "code",
      "source": [
        "def group_text(samples, chunk_size: int):\n",
        "    keys = list(samples.keys())\n",
        "    # concatenate per batch\n",
        "    concatenated_samples = {\n",
        "        k: sum(samples[k], [])\n",
        "        for k in keys\n",
        "    }\n",
        "    \n",
        "    total_length = len(concatenated_samples[keys[0]])\n",
        "    # dropping last remainder of chunk\n",
        "    total_length = (total_length // chunk_size) * chunk_size\n",
        "    result = {\n",
        "        key: [\n",
        "            value[chunk_start_index: chunk_start_index + chunk_size]\n",
        "            for chunk_start_index in range(0, total_length, chunk_size)\n",
        "        ]\n",
        "        for key, value in concatenated_samples.items()\n",
        "    }\n",
        "    result[\"labels\"] = result[\"input_ids\"].copy()\n",
        "    return result"
      ],
      "metadata": {
        "id": "j-FW5nrTy6L2"
      },
      "execution_count": null,
      "outputs": []
    },
    {
      "cell_type": "code",
      "source": [
        "chunk_size = 500\n",
        "grouped_train_dataset = encoded_train_dataset.map(\n",
        "    lambda data: group_text(data, chunk_size=chunk_size),\n",
        "    batched=True, \n",
        "    batch_size=1000\n",
        ")"
      ],
      "metadata": {
        "colab": {
          "base_uri": "https://localhost:8080/",
          "height": 49,
          "referenced_widgets": [
            "dbeb67b7e2314c5db741ad5989e884a0",
            "b2b8c450476c4a539422e444be5b58a5",
            "78ba6b37f30044f5b6a409cd572fff9d",
            "34010f1b5b304876ab2dcf9dbcc0f300",
            "307bc17abed74f0ba7662a5084a5c714",
            "c22db49a56d445778719ccbece54658a",
            "072261c73daf47daad77542fa658b456",
            "d004fca5ba4c48a3901225352108a7cb",
            "21a5a144c33d4f86b29b4943f1e2b14d",
            "4377034c0b204b75841ffd0baf2692e1",
            "1e38180b42ac47cf88515939d7156e01"
          ]
        },
        "id": "lc6FjtkAy8uD",
        "outputId": "5ab9dff0-b685-4a68-f74a-6f62227369e2"
      },
      "execution_count": null,
      "outputs": [
        {
          "output_type": "display_data",
          "data": {
            "text/plain": [
              "  0%|          | 0/114 [00:00<?, ?ba/s]"
            ],
            "application/vnd.jupyter.widget-view+json": {
              "version_major": 2,
              "version_minor": 0,
              "model_id": "dbeb67b7e2314c5db741ad5989e884a0"
            }
          },
          "metadata": {}
        }
      ]
    },
    {
      "cell_type": "code",
      "source": [
        "tokenizer.decode(grouped_train_dataset[\"input_ids\"][0]).split(\"[SEP]\")"
      ],
      "metadata": {
        "colab": {
          "base_uri": "https://localhost:8080/"
        },
        "id": "ZTy2wDNlkCbI",
        "outputId": "a6ee02c6-d5b0-4dad-d282-fa032b9f3f06"
      },
      "execution_count": null,
      "outputs": [
        {
          "output_type": "execute_result",
          "data": {
            "text/plain": [
              "['[CLS] [MASK] rejects jj nn to boycott jj nn. ',\n",
              " ' [CLS] nnp rejects [MASK] nn to boycott jj nn. ',\n",
              " ' [CLS] nnp rejects jj [MASK] to boycott jj nn. ',\n",
              " ' [CLS] nnp rejects jj nn [MASK] boycott jj nn. ',\n",
              " ' [CLS] nnp rejects jj nn to boycott [MASK] nn. ',\n",
              " ' [CLS] nnp rejects jj nn to boycott jj [MASK]. ',\n",
              " ' [CLS] nnp rejects jj nn to boycott jj nn [MASK] ',\n",
              " ' [CLS] brussels [MASK] ',\n",
              " ' [CLS] the [MASK] commission said on nnp prp disagreed in jj advice to consumers to shun jj lamb in nns determine whether mad cow nn md be transmitted in sheep. ',\n",
              " ' [CLS] the jj commission said on [MASK] prp disagreed in jj advice to consumers to shun jj lamb in nns determine whether mad cow nn md be transmitted in sheep. ',\n",
              " ' [CLS] the jj commission said on nnp [MASK] disagreed in jj advice to consumers to shun jj lamb in nns determine whether mad cow nn md be transmitted in sheep. ',\n",
              " ' [CLS] the jj commission said on nnp prp disagreed [MASK] jj advice to consumers to shun jj lamb in nns determine whether mad cow nn md be transmitted in sheep. ',\n",
              " ' [CLS] the jj commission said on nnp prp disagreed in [MASK] advice to consumers to shun jj lamb in nns determine whether mad cow nn md be transmitted in sheep. ',\n",
              " ' [CLS] the jj commission said on nnp prp disagreed in jj advice [MASK] consumers to shun jj lamb in nns determine whether mad cow nn md be transmitted in sheep. ',\n",
              " ' [CLS] the jj commission said on nnp prp disagreed in jj advice to consumers [MASK] shun jj lamb in nns determine whether mad cow nn md be transmitted in sheep. ',\n",
              " ' [CLS] the jj commission said on nnp prp disagreed in jj advice to consumers to shun [MASK] lamb in nns determine whether mad cow nn md be transmitted in sheep. ',\n",
              " ' [CLS] the jj commission said on nnp prp disagreed in jj advice to consumers to shun jj lamb [MASK] nns determine whether mad cow nn md be transmitted in sheep. ',\n",
              " ' [CLS] the jj commission said on nnp prp disagreed in jj advice to consumers to shun jj lamb in [MASK] determine whether mad cow nn md be transmitted in sheep. ',\n",
              " ' [CLS] the jj commission said on nnp prp disagreed in jj advice to consumers to shun jj lamb in nns determine whether mad cow [MASK] md be transmitted in sheep. ',\n",
              " '']"
            ]
          },
          "metadata": {},
          "execution_count": 17
        }
      ]
    },
    {
      "cell_type": "code",
      "source": [
        "def preprocess_val(datum):\n",
        "  tagged_tokens = tag_tokens(datum[\"tokens\"])\n",
        "  final_tokens = random_replace(tagged_tokens)\n",
        "  \n",
        "  tokenized = tokenizer(final_tokens, padding=False, is_split_into_words=True)\n",
        "  del tokenized[\"token_type_ids\"]\n",
        "    \n",
        "  return tokenized"
      ],
      "metadata": {
        "id": "Jdm2eaMwiyRl"
      },
      "execution_count": null,
      "outputs": []
    },
    {
      "cell_type": "code",
      "source": [
        "grouped_val_dataset = train_dataset.map(\n",
        "    preprocess_val,\n",
        "    batched=True,\n",
        "    batch_size=500,\n",
        "    remove_columns=[\"id\", \"tokens\", \"pos_tags\", \"chunk_tags\", \"ner_tags\"]\n",
        ").map(\n",
        "    lambda data: group_text(data, chunk_size=chunk_size),\n",
        "    batched=True, \n",
        "    batch_size=1000\n",
        ")"
      ],
      "metadata": {
        "colab": {
          "base_uri": "https://localhost:8080/",
          "height": 81,
          "referenced_widgets": [
            "f52e71e838414306bd56a5359338d935",
            "ad66cac5417f4aceb3595c64d8e1908b",
            "4b16a03c217d4e8cb1ca9e6510450b06",
            "697c2efa6a4943c58942f81d5a25f04a",
            "c491a1d71a534126ad776ae89c2fda99",
            "d991be3dbb854d8998dd0793cb660821",
            "0b28f3a4d35a4feea5e5c794ded81594",
            "922bc07ca31e4ad79754dfc766ebec6e",
            "ef50df8ee99347ce9f391a6ac72b97aa",
            "9885e1fcd8c14860822310a051f56254",
            "f4ac893ac99d4fa9b0eb6471dd2aca7b",
            "7f8aa07401ee415486806a9761a6eb66",
            "285feab220f8483fb851a75181847636",
            "b4f1ff0189b34ff4b4ee46db7c602675",
            "d15c3c10652149f398cdbea351bea034",
            "f9f24df609774fb599c04beaf3db7a24",
            "dd3f2042eecf44c5895f550ad2fa6503",
            "0649dc6c86544d038b5cc2a89306ef1b",
            "d2a39ef279c1488c81e0ae68357a2bff",
            "2f7b041919e54eb1a5f6377e64518cc9",
            "22699e74ecb140d6a412ab896b4f61de",
            "fe71fbc57e6c43f8be5b1eb1dad43e01"
          ]
        },
        "id": "y0wk5IzL_AbA",
        "outputId": "0adf6c04-bb4b-40eb-f69e-d126691144ef"
      },
      "execution_count": null,
      "outputs": [
        {
          "output_type": "display_data",
          "data": {
            "text/plain": [
              "  0%|          | 0/29 [00:00<?, ?ba/s]"
            ],
            "application/vnd.jupyter.widget-view+json": {
              "version_major": 2,
              "version_minor": 0,
              "model_id": "f52e71e838414306bd56a5359338d935"
            }
          },
          "metadata": {}
        },
        {
          "output_type": "display_data",
          "data": {
            "text/plain": [
              "  0%|          | 0/15 [00:00<?, ?ba/s]"
            ],
            "application/vnd.jupyter.widget-view+json": {
              "version_major": 2,
              "version_minor": 0,
              "model_id": "7f8aa07401ee415486806a9761a6eb66"
            }
          },
          "metadata": {}
        }
      ]
    },
    {
      "cell_type": "code",
      "source": [
        "#  prevent to use other dataset as validation\n",
        "# grouped_val_dataset = val_dataset.map(\n",
        "#     preprocess_val,\n",
        "#     batched=True,\n",
        "#     batch_size=500,\n",
        "#     remove_columns=[\"id\", \"tokens\", \"pos_tags\", \"chunk_tags\", \"ner_tags\"]\n",
        "# ).map(\n",
        "#     lambda data: group_text(data, chunk_size=chunk_size),\n",
        "#     batched=True, \n",
        "#     batch_size=1000\n",
        "# )"
      ],
      "metadata": {
        "id": "WzqViaCyit_n"
      },
      "execution_count": null,
      "outputs": []
    },
    {
      "cell_type": "code",
      "source": [
        "tokenizer.decode(grouped_val_dataset[\"input_ids\"][0]).split(\"[SEP]\")"
      ],
      "metadata": {
        "colab": {
          "base_uri": "https://localhost:8080/"
        },
        "id": "kh97NzDjkVKX",
        "outputId": "e83dad87-d707-40a4-faef-350d9b5f8eef"
      },
      "execution_count": null,
      "outputs": [
        {
          "output_type": "execute_result",
          "data": {
            "text/plain": [
              "['[CLS] nnp rejects german nn to vb jj lamb. ',\n",
              " ' [CLS] peter blackburn ',\n",
              " ' [CLS] nnp cd ',\n",
              " ' [CLS] dt european commission vbd in thursday prp vbd in german advice in nns to shun jj lamb in nns determine whether jj cow disease md be transmitted to sheep. ',\n",
              " \" [CLS] nnp's representative in dt european nnp pos veterinary nn werner nnp said on wednesday consumers md buy nn from countries jj than nnp in the jj advice was jjr. \",\n",
              " \" [CLS] `` we don't vb any such nn because we don't see any nns in it, '' the commission pos chief spokesman nnp nnp der pas vbd dt news nn. \",\n",
              " ' [CLS] he vbd further scientific study vbd required cc if it vbd found that nn was needed prp md vb taken in the nnp nnp. ',\n",
              " ' [CLS] prp said a proposal last nn by nnp nnp nnp franz nnp to ban sheep brains, nns and jj cords in the human cc nn nn nns vbd dt highly specific cc jj move to protect human health. ',\n",
              " ' [CLS] nnp proposed eu - wide measures after reports from nnp cc france that in laboratory conditions nns could vb nnp spongiform nnp - lrb - bse - rrb - - - jj cow disease. ',\n",
              " \" [CLS] cc nnp agreed to vb his proposal after the nnp's vbg veterinary nn, jj nn nn nns, questioned in such nn vbd justified in ex vbd rb a slight risk in human health. \",\n",
              " ' [CLS] spanish nnp minister loyola nnp nnp had rbr accused nnp at an nnp nn ministers pos nn of vbg unjustified alarm in \" jj nn. \\'\\' ',\n",
              " ' [CLS]. ',\n",
              " \" [CLS] rb france cc nnp backed fischler's nn. \",\n",
              " ' [CLS] dt nnp pos scientific veterinary and multidisciplinary nns are in to vb the nn rb next nn cc vb recommendations to dt senior veterinary officials. ',\n",
              " ' [CLS] sheep vbp rb been vbn to contract scrapie, a brain - wasting nn jj in nnp which vbz believed to vb been vbn to cattle in nn vbg nn waste. ',\n",
              " ' [CLS] jj nns denied in thursday ex was any nn to jj health in their sheep, but vbd nn that german nn nn in nns to avoid british nn might vb nns in europe. ',\n",
              " ' [CLS] \" wp we vbp to vb rb careful in vbz how jj nns vbp going to take germany\\'s lead, \" nnp']"
            ]
          },
          "metadata": {},
          "execution_count": 21
        }
      ]
    },
    {
      "cell_type": "code",
      "source": [
        "from huggingface_hub import notebook_login\n",
        "\n",
        "notebook_login()"
      ],
      "metadata": {
        "colab": {
          "base_uri": "https://localhost:8080/",
          "height": 381,
          "referenced_widgets": [
            "969c53e999f64f25b084eadbcfef0b34",
            "f399ab5f118f456199d8c8d5272800f7",
            "16729b58a4eb4fb8ba0b9f6608863300",
            "615b3f1a1a8b4c10bc61469ee83a9317",
            "b67092c9c81d4ebaa164504ea7e3f0b2",
            "f3d1217df72140d4a789c388856954b3",
            "d7184ba5417947e897fc1dc8b0113981",
            "f8044c9576ce479bb0466b2234b3714d",
            "6cfc49425fdd455195d8f5f75b97d4b5",
            "3f3c6caab82547729a1d72b1938bde12",
            "d85a33160524461a9377c8ee566616b2",
            "42873ce491d14b7dafedccf200bb2b57",
            "da8e26341c6b46aba60db847c970f3d9",
            "ef1915aa07c54e8b8ffdd98ffee6461e"
          ]
        },
        "id": "1nxKTnwmxaDp",
        "outputId": "9740d799-0263-4cc3-ea21-4f0d407eedfb"
      },
      "execution_count": null,
      "outputs": [
        {
          "output_type": "error",
          "ename": "ValueError",
          "evalue": "ignored",
          "traceback": [
            "\u001b[0;31m---------------------------------------------------------------------------\u001b[0m",
            "\u001b[0;31mValueError\u001b[0m                                Traceback (most recent call last)",
            "\u001b[0;32m/usr/local/lib/python3.7/dist-packages/huggingface_hub/commands/user.py\u001b[0m in \u001b[0;36mlogin_token_event\u001b[0;34m(t)\u001b[0m\n\u001b[1;32m    332\u001b[0m         \u001b[0mtoken_widget\u001b[0m\u001b[0;34m.\u001b[0m\u001b[0mvalue\u001b[0m \u001b[0;34m=\u001b[0m \u001b[0;34m\"\"\u001b[0m\u001b[0;34m\u001b[0m\u001b[0;34m\u001b[0m\u001b[0m\n\u001b[1;32m    333\u001b[0m         \u001b[0mclear_output\u001b[0m\u001b[0;34m(\u001b[0m\u001b[0;34m)\u001b[0m\u001b[0;34m\u001b[0m\u001b[0;34m\u001b[0m\u001b[0m\n\u001b[0;32m--> 334\u001b[0;31m         \u001b[0m_login\u001b[0m\u001b[0;34m(\u001b[0m\u001b[0mHfApi\u001b[0m\u001b[0;34m(\u001b[0m\u001b[0;34m)\u001b[0m\u001b[0;34m,\u001b[0m \u001b[0mtoken\u001b[0m\u001b[0;34m=\u001b[0m\u001b[0mtoken\u001b[0m\u001b[0;34m)\u001b[0m\u001b[0;34m\u001b[0m\u001b[0;34m\u001b[0m\u001b[0m\n\u001b[0m\u001b[1;32m    335\u001b[0m \u001b[0;34m\u001b[0m\u001b[0m\n\u001b[1;32m    336\u001b[0m     \u001b[0mtoken_finish_button\u001b[0m\u001b[0;34m.\u001b[0m\u001b[0mon_click\u001b[0m\u001b[0;34m(\u001b[0m\u001b[0mlogin_token_event\u001b[0m\u001b[0;34m)\u001b[0m\u001b[0;34m\u001b[0m\u001b[0;34m\u001b[0m\u001b[0m\n",
            "\u001b[0;32m/usr/local/lib/python3.7/dist-packages/huggingface_hub/commands/user.py\u001b[0m in \u001b[0;36m_login\u001b[0;34m(hf_api, token)\u001b[0m\n\u001b[1;32m    338\u001b[0m \u001b[0;34m\u001b[0m\u001b[0m\n\u001b[1;32m    339\u001b[0m \u001b[0;32mdef\u001b[0m \u001b[0m_login\u001b[0m\u001b[0;34m(\u001b[0m\u001b[0mhf_api\u001b[0m\u001b[0;34m,\u001b[0m \u001b[0mtoken\u001b[0m\u001b[0;34m=\u001b[0m\u001b[0;32mNone\u001b[0m\u001b[0;34m)\u001b[0m\u001b[0;34m:\u001b[0m\u001b[0;34m\u001b[0m\u001b[0;34m\u001b[0m\u001b[0m\n\u001b[0;32m--> 340\u001b[0;31m     \u001b[0mtoken\u001b[0m\u001b[0;34m,\u001b[0m \u001b[0mname\u001b[0m \u001b[0;34m=\u001b[0m \u001b[0mhf_api\u001b[0m\u001b[0;34m.\u001b[0m\u001b[0m_validate_or_retrieve_token\u001b[0m\u001b[0;34m(\u001b[0m\u001b[0mtoken\u001b[0m\u001b[0;34m)\u001b[0m\u001b[0;34m\u001b[0m\u001b[0;34m\u001b[0m\u001b[0m\n\u001b[0m\u001b[1;32m    341\u001b[0m     \u001b[0mhf_api\u001b[0m\u001b[0;34m.\u001b[0m\u001b[0mset_access_token\u001b[0m\u001b[0;34m(\u001b[0m\u001b[0mtoken\u001b[0m\u001b[0;34m)\u001b[0m\u001b[0;34m\u001b[0m\u001b[0;34m\u001b[0m\u001b[0m\n\u001b[1;32m    342\u001b[0m     \u001b[0mHfFolder\u001b[0m\u001b[0;34m.\u001b[0m\u001b[0msave_token\u001b[0m\u001b[0;34m(\u001b[0m\u001b[0mtoken\u001b[0m\u001b[0;34m)\u001b[0m\u001b[0;34m\u001b[0m\u001b[0;34m\u001b[0m\u001b[0m\n",
            "\u001b[0;32m/usr/local/lib/python3.7/dist-packages/huggingface_hub/hf_api.py\u001b[0m in \u001b[0;36m_validate_or_retrieve_token\u001b[0;34m(self, token, name, function_name)\u001b[0m\n\u001b[1;32m    649\u001b[0m                 \u001b[0;32mraise\u001b[0m \u001b[0mValueError\u001b[0m\u001b[0;34m(\u001b[0m\u001b[0;34m\"You must use your personal account token.\"\u001b[0m\u001b[0;34m)\u001b[0m\u001b[0;34m\u001b[0m\u001b[0;34m\u001b[0m\u001b[0m\n\u001b[1;32m    650\u001b[0m             \u001b[0;32mif\u001b[0m \u001b[0;32mnot\u001b[0m \u001b[0mself\u001b[0m\u001b[0;34m.\u001b[0m\u001b[0m_is_valid_token\u001b[0m\u001b[0;34m(\u001b[0m\u001b[0mtoken\u001b[0m\u001b[0;34m)\u001b[0m\u001b[0;34m:\u001b[0m\u001b[0;34m\u001b[0m\u001b[0;34m\u001b[0m\u001b[0m\n\u001b[0;32m--> 651\u001b[0;31m                 \u001b[0;32mraise\u001b[0m \u001b[0mValueError\u001b[0m\u001b[0;34m(\u001b[0m\u001b[0;34m\"Invalid token passed!\"\u001b[0m\u001b[0;34m)\u001b[0m\u001b[0;34m\u001b[0m\u001b[0;34m\u001b[0m\u001b[0m\n\u001b[0m\u001b[1;32m    652\u001b[0m \u001b[0;34m\u001b[0m\u001b[0m\n\u001b[1;32m    653\u001b[0m         \u001b[0;32mreturn\u001b[0m \u001b[0mtoken\u001b[0m\u001b[0;34m,\u001b[0m \u001b[0mname\u001b[0m\u001b[0;34m\u001b[0m\u001b[0;34m\u001b[0m\u001b[0m\n",
            "\u001b[0;31mValueError\u001b[0m: Invalid token passed!"
          ]
        }
      ]
    },
    {
      "cell_type": "code",
      "source": [
        "# sample training (orig): [SEP] [CLS] Senator kelly of Arizona bought the world one\n",
        "# sample training (tag mixture): [SEP] [CLS] nnp kelly of nnp vbd dt world one\n",
        "# sample training (datum 1): [SEP] [CLS] [MASK] kelly of nnp vbd dt world one -> Senator kelly of nnp vbd dt world one\n",
        "# sample training (datum 2): [SEP] [CLS] nnp kelly of [MASK] vbd dt world one -> nnp kelly of Arizona vbd dt world one\n",
        "# sample training (datum 3): [SEP] [CLS] nnp kelly of nnp [MASK] dt world one -> nnp kelly of nnp bought dt world one\n",
        "# sample eval    : [SEP] [CLS] [MASK] kelly of [MASK] vbd dt world one\n",
        "# constraint the data_collator to only mask the POS tags: eval?"
      ],
      "metadata": {
        "id": "CCqq7nm3ycfo"
      },
      "execution_count": null,
      "outputs": []
    },
    {
      "cell_type": "code",
      "execution_count": null,
      "metadata": {
        "id": "Y0vG6JxUsfAc"
      },
      "outputs": [],
      "source": [
        "batch_size = 8\n",
        "logging_steps = len(grouped_train_dataset) // batch_size\n",
        "\n",
        "training_args = TrainingArguments(\n",
        "    output_dir=\"/tmp/scibert-lm-v2-finetuned-20\",\n",
        "    overwrite_output_dir=True,\n",
        "    evaluation_strategy=\"epoch\",\n",
        "    save_strategy=\"epoch\",\n",
        "    num_train_epochs=20,\n",
        "    learning_rate=2e-5,\n",
        "    weight_decay=1e-6,\n",
        "    per_device_train_batch_size=batch_size,\n",
        "    per_device_eval_batch_size=batch_size,\n",
        "    logging_steps=logging_steps,\n",
        "    # label_smoothing_factor=0.1,\n",
        "    push_to_hub=True,\n",
        "    fp16=True,\n",
        "    load_best_model_at_end=True,\n",
        ")"
      ]
    },
    {
      "cell_type": "code",
      "source": [
        "data_collator = DataCollatorForLanguageModeling(\n",
        "    tokenizer, \n",
        "    mlm_probability=0.15\n",
        ")"
      ],
      "metadata": {
        "id": "udoLvIkMvmrK"
      },
      "execution_count": null,
      "outputs": []
    },
    {
      "cell_type": "code",
      "source": [
        "default_data_collator = DefaultDataCollator()"
      ],
      "metadata": {
        "id": "1mEseVcwJu7e"
      },
      "execution_count": null,
      "outputs": []
    },
    {
      "cell_type": "code",
      "source": [
        "# will need to override Trainer.get_train_dataloader\n",
        "# and remove the collate_fn function for training, since we already collate it in the beginning\n",
        "\n",
        "class CustomTrainer(Trainer):\n",
        "  def get_train_dataloader(self) -> DataLoader:\n",
        "      if self.train_dataset is None:\n",
        "        raise ValueError(\"Trainer: training requires a train_dataset.\")\n",
        "\n",
        "      train_dataset = self.train_dataset\n",
        "      train_dataset = self._remove_unused_columns(train_dataset, description=\"training\")\n",
        "      train_sampler = self._get_train_sampler()\n",
        "\n",
        "      return DataLoader(\n",
        "          train_dataset,\n",
        "          batch_size=self.args.train_batch_size,\n",
        "          sampler=train_sampler,\n",
        "          # collate_fn=self.data_collator, we don't use data collator in this training\n",
        "          collate_fn=default_data_collator,\n",
        "          drop_last=self.args.dataloader_drop_last,\n",
        "          num_workers=self.args.dataloader_num_workers,\n",
        "          pin_memory=self.args.dataloader_pin_memory,\n",
        "      )"
      ],
      "metadata": {
        "id": "vfdcP1gTfx7W"
      },
      "execution_count": null,
      "outputs": []
    },
    {
      "cell_type": "code",
      "execution_count": null,
      "metadata": {
        "id": "MILyXXYSsgb6",
        "colab": {
          "base_uri": "https://localhost:8080/"
        },
        "outputId": "59cfb1cc-5ecb-4dd7-ff4a-de98decbfbf7"
      },
      "outputs": [
        {
          "output_type": "stream",
          "name": "stderr",
          "text": [
            "/tmp/scibert-lm-v2-finetuned-20 is already a clone of https://huggingface.co/ariesutiono/scibert-lm-v2-finetuned-20. Make sure you pull the latest changes with `repo.git_pull()`.\n",
            "Using cuda_amp half precision backend\n"
          ]
        }
      ],
      "source": [
        "trainer = CustomTrainer(\n",
        "    model=model,\n",
        "    args=training_args,\n",
        "    train_dataset=grouped_train_dataset,\n",
        "    eval_dataset=grouped_val_dataset,\n",
        "    data_collator=data_collator,\n",
        "    callbacks=[EarlyStoppingCallback(early_stopping_patience=2)]\n",
        ")\n"
      ]
    },
    {
      "cell_type": "code",
      "source": [
        "trainer"
      ],
      "metadata": {
        "colab": {
          "base_uri": "https://localhost:8080/",
          "height": 166
        },
        "id": "dFJxNHBLlih6",
        "outputId": "0643ea44-ff55-4831-f4bd-231a4d0784f1"
      },
      "execution_count": null,
      "outputs": [
        {
          "output_type": "error",
          "ename": "NameError",
          "evalue": "ignored",
          "traceback": [
            "\u001b[0;31m---------------------------------------------------------------------------\u001b[0m",
            "\u001b[0;31mNameError\u001b[0m                                 Traceback (most recent call last)",
            "\u001b[0;32m<ipython-input-2-161591a854d0>\u001b[0m in \u001b[0;36m<module>\u001b[0;34m()\u001b[0m\n\u001b[0;32m----> 1\u001b[0;31m \u001b[0mtrainer\u001b[0m\u001b[0;34m\u001b[0m\u001b[0;34m\u001b[0m\u001b[0m\n\u001b[0m",
            "\u001b[0;31mNameError\u001b[0m: name 'trainer' is not defined"
          ]
        }
      ]
    },
    {
      "cell_type": "code",
      "source": [
        "trainer.train()"
      ],
      "metadata": {
        "colab": {
          "base_uri": "https://localhost:8080/",
          "height": 797
        },
        "id": "3EI8E79lwZrZ",
        "outputId": "8cf53b01-25f2-4085-d9b5-327b6b970623"
      },
      "execution_count": null,
      "outputs": [
        {
          "output_type": "stream",
          "name": "stderr",
          "text": [
            "/usr/local/lib/python3.7/dist-packages/transformers/optimization.py:310: FutureWarning: This implementation of AdamW is deprecated and will be removed in a future version. Use the PyTorch implementation torch.optim.AdamW instead, or set `no_deprecation_warning=True` to disable this warning\n",
            "  FutureWarning,\n",
            "***** Running training *****\n",
            "  Num examples = 7018\n",
            "  Num Epochs = 20\n",
            "  Instantaneous batch size per device = 8\n",
            "  Total train batch size (w. parallel, distributed & accumulation) = 8\n",
            "  Gradient Accumulation steps = 1\n",
            "  Total optimization steps = 17560\n"
          ]
        },
        {
          "output_type": "display_data",
          "data": {
            "text/plain": [
              "<IPython.core.display.HTML object>"
            ],
            "text/html": [
              "\n",
              "    <div>\n",
              "      \n",
              "      <progress value='2634' max='17560' style='width:300px; height:20px; vertical-align: middle;'></progress>\n",
              "      [ 2634/17560 30:04 < 2:50:31, 1.46 it/s, Epoch 3/20]\n",
              "    </div>\n",
              "    <table border=\"1\" class=\"dataframe\">\n",
              "  <thead>\n",
              " <tr style=\"text-align: left;\">\n",
              "      <th>Epoch</th>\n",
              "      <th>Training Loss</th>\n",
              "      <th>Validation Loss</th>\n",
              "    </tr>\n",
              "  </thead>\n",
              "  <tbody>\n",
              "    <tr>\n",
              "      <td>1</td>\n",
              "      <td>0.021100</td>\n",
              "      <td>15.197062</td>\n",
              "    </tr>\n",
              "    <tr>\n",
              "      <td>2</td>\n",
              "      <td>0.000100</td>\n",
              "      <td>16.877384</td>\n",
              "    </tr>\n",
              "    <tr>\n",
              "      <td>3</td>\n",
              "      <td>0.000100</td>\n",
              "      <td>15.795233</td>\n",
              "    </tr>\n",
              "  </tbody>\n",
              "</table><p>"
            ]
          },
          "metadata": {}
        },
        {
          "output_type": "stream",
          "name": "stderr",
          "text": [
            "***** Running Evaluation *****\n",
            "  Num examples = 571\n",
            "  Batch size = 8\n",
            "Saving model checkpoint to /tmp/scibert-lm-v2-finetuned-20/checkpoint-878\n",
            "Configuration saved in /tmp/scibert-lm-v2-finetuned-20/checkpoint-878/config.json\n",
            "Model weights saved in /tmp/scibert-lm-v2-finetuned-20/checkpoint-878/pytorch_model.bin\n",
            "***** Running Evaluation *****\n",
            "  Num examples = 571\n",
            "  Batch size = 8\n",
            "Saving model checkpoint to /tmp/scibert-lm-v2-finetuned-20/checkpoint-1756\n",
            "Configuration saved in /tmp/scibert-lm-v2-finetuned-20/checkpoint-1756/config.json\n",
            "Model weights saved in /tmp/scibert-lm-v2-finetuned-20/checkpoint-1756/pytorch_model.bin\n",
            "***** Running Evaluation *****\n",
            "  Num examples = 571\n",
            "  Batch size = 8\n",
            "Saving model checkpoint to /tmp/scibert-lm-v2-finetuned-20/checkpoint-2634\n",
            "Configuration saved in /tmp/scibert-lm-v2-finetuned-20/checkpoint-2634/config.json\n",
            "Model weights saved in /tmp/scibert-lm-v2-finetuned-20/checkpoint-2634/pytorch_model.bin\n",
            "\n",
            "\n",
            "Training completed. Do not forget to share your model on huggingface.co/models =)\n",
            "\n",
            "\n",
            "Loading best model from /tmp/scibert-lm-v2-finetuned-20/checkpoint-878 (score: 15.197062492370605).\n"
          ]
        },
        {
          "output_type": "execute_result",
          "data": {
            "text/plain": [
              "TrainOutput(global_step=2634, training_loss=0.007087271895372034, metrics={'train_runtime': 1804.7771, 'train_samples_per_second': 77.771, 'train_steps_per_second': 9.73, 'total_flos': 5413641042744000.0, 'train_loss': 0.007087271895372034, 'epoch': 3.0})"
            ]
          },
          "metadata": {},
          "execution_count": 29
        }
      ]
    },
    {
      "cell_type": "code",
      "source": [
        "tokenizer.save_pretrained(\"/tmp/scibert-lm-v2-finetuned-20\")"
      ],
      "metadata": {
        "colab": {
          "base_uri": "https://localhost:8080/"
        },
        "id": "2Iu2qzNWwsI_",
        "outputId": "44f59c0e-395b-4541-b003-7df21637d442"
      },
      "execution_count": null,
      "outputs": [
        {
          "output_type": "stream",
          "name": "stderr",
          "text": [
            "tokenizer config file saved in /tmp/scibert-lm-v2-finetuned-20/tokenizer_config.json\n",
            "Special tokens file saved in /tmp/scibert-lm-v2-finetuned-20/special_tokens_map.json\n",
            "added tokens file saved in /tmp/scibert-lm-v2-finetuned-20/added_tokens.json\n"
          ]
        },
        {
          "output_type": "execute_result",
          "data": {
            "text/plain": [
              "('/tmp/scibert-lm-v2-finetuned-20/tokenizer_config.json',\n",
              " '/tmp/scibert-lm-v2-finetuned-20/special_tokens_map.json',\n",
              " '/tmp/scibert-lm-v2-finetuned-20/vocab.txt',\n",
              " '/tmp/scibert-lm-v2-finetuned-20/added_tokens.json')"
            ]
          },
          "metadata": {},
          "execution_count": 31
        }
      ]
    },
    {
      "cell_type": "code",
      "source": [
        "trainer.push_to_hub()"
      ],
      "metadata": {
        "colab": {
          "base_uri": "https://localhost:8080/",
          "height": 293,
          "referenced_widgets": [
            "90db505a401c42fc84566af2c66076e1",
            "0431705ccf3c4e82851c9d4e0277e52a",
            "1de1ef12c68440acaa3fd7ec36c937b8",
            "1277200380d4432e94ce5c49cd649a95",
            "a8afb963e0a840cfb33bd547db6fa02a",
            "f296402b495a4a9a863c9e7e9eb5d2ae",
            "485b5c5d04ac443fa4059b15924d9310",
            "056d35e96e7344ddbde48e7350b5cdd4",
            "9ee7c43d8e2f46768cdb6d42000bc085",
            "0239d9296ffa46ca9a5f2480878adcbb",
            "441d0e8a3bf34dc3a59dcbc1a72bbd72"
          ]
        },
        "id": "MKuSUKnP4XwZ",
        "outputId": "6993f330-55a1-4af6-cafb-9b51d9afface"
      },
      "execution_count": null,
      "outputs": [
        {
          "output_type": "stream",
          "name": "stderr",
          "text": [
            "Saving model checkpoint to /tmp/scibert-lm-v2-finetuned-20\n",
            "Configuration saved in /tmp/scibert-lm-v2-finetuned-20/config.json\n",
            "Model weights saved in /tmp/scibert-lm-v2-finetuned-20/pytorch_model.bin\n",
            "Several commits (2) will be pushed upstream.\n",
            "The progress bars may be unreliable.\n"
          ]
        },
        {
          "output_type": "display_data",
          "data": {
            "text/plain": [
              "Upload file runs/Aug08_01-43-03_3f560333a24e/events.out.tfevents.1659922988.3f560333a24e.483.0:  65%|######5  …"
            ],
            "application/vnd.jupyter.widget-view+json": {
              "version_major": 2,
              "version_minor": 0,
              "model_id": "90db505a401c42fc84566af2c66076e1"
            }
          },
          "metadata": {}
        },
        {
          "output_type": "stream",
          "name": "stderr",
          "text": [
            "To https://huggingface.co/ariesutiono/scibert-lm-v2-finetuned-20\n",
            "   4a11015..1be1019  main -> main\n",
            "\n",
            "Dropping the following result as it does not have all the necessary fields:\n",
            "{'task': {'name': 'Masked Language Modeling', 'type': 'fill-mask'}, 'dataset': {'name': 'conll2003', 'type': 'conll2003', 'config': 'conll2003', 'split': 'train[:-1]', 'args': 'conll2003'}}\n",
            "To https://huggingface.co/ariesutiono/scibert-lm-v2-finetuned-20\n",
            "   1be1019..af88569  main -> main\n",
            "\n"
          ]
        },
        {
          "output_type": "execute_result",
          "data": {
            "text/plain": [
              "'https://huggingface.co/ariesutiono/scibert-lm-v2-finetuned-20/commit/1be1019e6e84b16f38e3ed8eaae5d0ff14397069'"
            ],
            "application/vnd.google.colaboratory.intrinsic+json": {
              "type": "string"
            }
          },
          "metadata": {},
          "execution_count": 32
        }
      ]
    },
    {
      "cell_type": "code",
      "source": [
        ""
      ],
      "metadata": {
        "id": "8yWTfL2L4ZFk"
      },
      "execution_count": null,
      "outputs": []
    }
  ],
  "metadata": {
    "accelerator": "GPU",
    "colab": {
      "collapsed_sections": [],
      "name": "Training language model mixed with pos tags - 2.ipynb",
      "provenance": [],
      "include_colab_link": true
    },
    "gpuClass": "standard",
    "kernelspec": {
      "display_name": "Python 3",
      "name": "python3"
    },
    "language_info": {
      "name": "python"
    },
    "widgets": {
      "application/vnd.jupyter.widget-state+json": {
        "3c0cd275e8c24d67a5e4f2869724c392": {
          "model_module": "@jupyter-widgets/controls",
          "model_name": "HBoxModel",
          "model_module_version": "1.5.0",
          "state": {
            "_dom_classes": [],
            "_model_module": "@jupyter-widgets/controls",
            "_model_module_version": "1.5.0",
            "_model_name": "HBoxModel",
            "_view_count": null,
            "_view_module": "@jupyter-widgets/controls",
            "_view_module_version": "1.5.0",
            "_view_name": "HBoxView",
            "box_style": "",
            "children": [
              "IPY_MODEL_548a6f2710cd418dad2e93da65c7c4cc",
              "IPY_MODEL_38101342aa3d4c3da3f3b3607dddaa4b",
              "IPY_MODEL_a7d9ede146c04f1c9dd09d511bd136e2"
            ],
            "layout": "IPY_MODEL_a363802801ba4356a3b60f34719eac7e"
          }
        },
        "548a6f2710cd418dad2e93da65c7c4cc": {
          "model_module": "@jupyter-widgets/controls",
          "model_name": "HTMLModel",
          "model_module_version": "1.5.0",
          "state": {
            "_dom_classes": [],
            "_model_module": "@jupyter-widgets/controls",
            "_model_module_version": "1.5.0",
            "_model_name": "HTMLModel",
            "_view_count": null,
            "_view_module": "@jupyter-widgets/controls",
            "_view_module_version": "1.5.0",
            "_view_name": "HTMLView",
            "description": "",
            "description_tooltip": null,
            "layout": "IPY_MODEL_d1c5d03e7198479098fdf61ff929f6a8",
            "placeholder": "​",
            "style": "IPY_MODEL_69967f8f9a3342ef88c4c7e137b2a979",
            "value": "Downloading https://raw.githubusercontent.com/stanfordnlp/stanza-resources/main/resources_1.4.0.json: "
          }
        },
        "38101342aa3d4c3da3f3b3607dddaa4b": {
          "model_module": "@jupyter-widgets/controls",
          "model_name": "FloatProgressModel",
          "model_module_version": "1.5.0",
          "state": {
            "_dom_classes": [],
            "_model_module": "@jupyter-widgets/controls",
            "_model_module_version": "1.5.0",
            "_model_name": "FloatProgressModel",
            "_view_count": null,
            "_view_module": "@jupyter-widgets/controls",
            "_view_module_version": "1.5.0",
            "_view_name": "ProgressView",
            "bar_style": "success",
            "description": "",
            "description_tooltip": null,
            "layout": "IPY_MODEL_54b1e9e15ec1418e8f008d114dada525",
            "max": 25998,
            "min": 0,
            "orientation": "horizontal",
            "style": "IPY_MODEL_ce28f9ece1f84734b2b250123f75e7e1",
            "value": 25998
          }
        },
        "a7d9ede146c04f1c9dd09d511bd136e2": {
          "model_module": "@jupyter-widgets/controls",
          "model_name": "HTMLModel",
          "model_module_version": "1.5.0",
          "state": {
            "_dom_classes": [],
            "_model_module": "@jupyter-widgets/controls",
            "_model_module_version": "1.5.0",
            "_model_name": "HTMLModel",
            "_view_count": null,
            "_view_module": "@jupyter-widgets/controls",
            "_view_module_version": "1.5.0",
            "_view_name": "HTMLView",
            "description": "",
            "description_tooltip": null,
            "layout": "IPY_MODEL_d4b1e4f885084d999dcb2478ceab268c",
            "placeholder": "​",
            "style": "IPY_MODEL_b11ef1b5fce74699a377011f5b59c7e6",
            "value": " 154k/? [00:00&lt;00:00, 776kB/s]"
          }
        },
        "a363802801ba4356a3b60f34719eac7e": {
          "model_module": "@jupyter-widgets/base",
          "model_name": "LayoutModel",
          "model_module_version": "1.2.0",
          "state": {
            "_model_module": "@jupyter-widgets/base",
            "_model_module_version": "1.2.0",
            "_model_name": "LayoutModel",
            "_view_count": null,
            "_view_module": "@jupyter-widgets/base",
            "_view_module_version": "1.2.0",
            "_view_name": "LayoutView",
            "align_content": null,
            "align_items": null,
            "align_self": null,
            "border": null,
            "bottom": null,
            "display": null,
            "flex": null,
            "flex_flow": null,
            "grid_area": null,
            "grid_auto_columns": null,
            "grid_auto_flow": null,
            "grid_auto_rows": null,
            "grid_column": null,
            "grid_gap": null,
            "grid_row": null,
            "grid_template_areas": null,
            "grid_template_columns": null,
            "grid_template_rows": null,
            "height": null,
            "justify_content": null,
            "justify_items": null,
            "left": null,
            "margin": null,
            "max_height": null,
            "max_width": null,
            "min_height": null,
            "min_width": null,
            "object_fit": null,
            "object_position": null,
            "order": null,
            "overflow": null,
            "overflow_x": null,
            "overflow_y": null,
            "padding": null,
            "right": null,
            "top": null,
            "visibility": null,
            "width": null
          }
        },
        "d1c5d03e7198479098fdf61ff929f6a8": {
          "model_module": "@jupyter-widgets/base",
          "model_name": "LayoutModel",
          "model_module_version": "1.2.0",
          "state": {
            "_model_module": "@jupyter-widgets/base",
            "_model_module_version": "1.2.0",
            "_model_name": "LayoutModel",
            "_view_count": null,
            "_view_module": "@jupyter-widgets/base",
            "_view_module_version": "1.2.0",
            "_view_name": "LayoutView",
            "align_content": null,
            "align_items": null,
            "align_self": null,
            "border": null,
            "bottom": null,
            "display": null,
            "flex": null,
            "flex_flow": null,
            "grid_area": null,
            "grid_auto_columns": null,
            "grid_auto_flow": null,
            "grid_auto_rows": null,
            "grid_column": null,
            "grid_gap": null,
            "grid_row": null,
            "grid_template_areas": null,
            "grid_template_columns": null,
            "grid_template_rows": null,
            "height": null,
            "justify_content": null,
            "justify_items": null,
            "left": null,
            "margin": null,
            "max_height": null,
            "max_width": null,
            "min_height": null,
            "min_width": null,
            "object_fit": null,
            "object_position": null,
            "order": null,
            "overflow": null,
            "overflow_x": null,
            "overflow_y": null,
            "padding": null,
            "right": null,
            "top": null,
            "visibility": null,
            "width": null
          }
        },
        "69967f8f9a3342ef88c4c7e137b2a979": {
          "model_module": "@jupyter-widgets/controls",
          "model_name": "DescriptionStyleModel",
          "model_module_version": "1.5.0",
          "state": {
            "_model_module": "@jupyter-widgets/controls",
            "_model_module_version": "1.5.0",
            "_model_name": "DescriptionStyleModel",
            "_view_count": null,
            "_view_module": "@jupyter-widgets/base",
            "_view_module_version": "1.2.0",
            "_view_name": "StyleView",
            "description_width": ""
          }
        },
        "54b1e9e15ec1418e8f008d114dada525": {
          "model_module": "@jupyter-widgets/base",
          "model_name": "LayoutModel",
          "model_module_version": "1.2.0",
          "state": {
            "_model_module": "@jupyter-widgets/base",
            "_model_module_version": "1.2.0",
            "_model_name": "LayoutModel",
            "_view_count": null,
            "_view_module": "@jupyter-widgets/base",
            "_view_module_version": "1.2.0",
            "_view_name": "LayoutView",
            "align_content": null,
            "align_items": null,
            "align_self": null,
            "border": null,
            "bottom": null,
            "display": null,
            "flex": null,
            "flex_flow": null,
            "grid_area": null,
            "grid_auto_columns": null,
            "grid_auto_flow": null,
            "grid_auto_rows": null,
            "grid_column": null,
            "grid_gap": null,
            "grid_row": null,
            "grid_template_areas": null,
            "grid_template_columns": null,
            "grid_template_rows": null,
            "height": null,
            "justify_content": null,
            "justify_items": null,
            "left": null,
            "margin": null,
            "max_height": null,
            "max_width": null,
            "min_height": null,
            "min_width": null,
            "object_fit": null,
            "object_position": null,
            "order": null,
            "overflow": null,
            "overflow_x": null,
            "overflow_y": null,
            "padding": null,
            "right": null,
            "top": null,
            "visibility": null,
            "width": null
          }
        },
        "ce28f9ece1f84734b2b250123f75e7e1": {
          "model_module": "@jupyter-widgets/controls",
          "model_name": "ProgressStyleModel",
          "model_module_version": "1.5.0",
          "state": {
            "_model_module": "@jupyter-widgets/controls",
            "_model_module_version": "1.5.0",
            "_model_name": "ProgressStyleModel",
            "_view_count": null,
            "_view_module": "@jupyter-widgets/base",
            "_view_module_version": "1.2.0",
            "_view_name": "StyleView",
            "bar_color": null,
            "description_width": ""
          }
        },
        "d4b1e4f885084d999dcb2478ceab268c": {
          "model_module": "@jupyter-widgets/base",
          "model_name": "LayoutModel",
          "model_module_version": "1.2.0",
          "state": {
            "_model_module": "@jupyter-widgets/base",
            "_model_module_version": "1.2.0",
            "_model_name": "LayoutModel",
            "_view_count": null,
            "_view_module": "@jupyter-widgets/base",
            "_view_module_version": "1.2.0",
            "_view_name": "LayoutView",
            "align_content": null,
            "align_items": null,
            "align_self": null,
            "border": null,
            "bottom": null,
            "display": null,
            "flex": null,
            "flex_flow": null,
            "grid_area": null,
            "grid_auto_columns": null,
            "grid_auto_flow": null,
            "grid_auto_rows": null,
            "grid_column": null,
            "grid_gap": null,
            "grid_row": null,
            "grid_template_areas": null,
            "grid_template_columns": null,
            "grid_template_rows": null,
            "height": null,
            "justify_content": null,
            "justify_items": null,
            "left": null,
            "margin": null,
            "max_height": null,
            "max_width": null,
            "min_height": null,
            "min_width": null,
            "object_fit": null,
            "object_position": null,
            "order": null,
            "overflow": null,
            "overflow_x": null,
            "overflow_y": null,
            "padding": null,
            "right": null,
            "top": null,
            "visibility": null,
            "width": null
          }
        },
        "b11ef1b5fce74699a377011f5b59c7e6": {
          "model_module": "@jupyter-widgets/controls",
          "model_name": "DescriptionStyleModel",
          "model_module_version": "1.5.0",
          "state": {
            "_model_module": "@jupyter-widgets/controls",
            "_model_module_version": "1.5.0",
            "_model_name": "DescriptionStyleModel",
            "_view_count": null,
            "_view_module": "@jupyter-widgets/base",
            "_view_module_version": "1.2.0",
            "_view_name": "StyleView",
            "description_width": ""
          }
        },
        "d116184af1d04b8083ed97007305c091": {
          "model_module": "@jupyter-widgets/controls",
          "model_name": "HBoxModel",
          "model_module_version": "1.5.0",
          "state": {
            "_dom_classes": [],
            "_model_module": "@jupyter-widgets/controls",
            "_model_module_version": "1.5.0",
            "_model_name": "HBoxModel",
            "_view_count": null,
            "_view_module": "@jupyter-widgets/controls",
            "_view_module_version": "1.5.0",
            "_view_name": "HBoxView",
            "box_style": "",
            "children": [
              "IPY_MODEL_fca4b47ec4f74756a31c23a02b5b458c",
              "IPY_MODEL_989d3c23261a427290a3869648a44610",
              "IPY_MODEL_6d4b93880897468189beac11a1a37026"
            ],
            "layout": "IPY_MODEL_167a836407744b78b730264874851569"
          }
        },
        "fca4b47ec4f74756a31c23a02b5b458c": {
          "model_module": "@jupyter-widgets/controls",
          "model_name": "HTMLModel",
          "model_module_version": "1.5.0",
          "state": {
            "_dom_classes": [],
            "_model_module": "@jupyter-widgets/controls",
            "_model_module_version": "1.5.0",
            "_model_name": "HTMLModel",
            "_view_count": null,
            "_view_module": "@jupyter-widgets/controls",
            "_view_module_version": "1.5.0",
            "_view_name": "HTMLView",
            "description": "",
            "description_tooltip": null,
            "layout": "IPY_MODEL_c76e3b83d32444348a251396cdb5184a",
            "placeholder": "​",
            "style": "IPY_MODEL_aea50851ac4c440285fb131e41ac110e",
            "value": "100%"
          }
        },
        "989d3c23261a427290a3869648a44610": {
          "model_module": "@jupyter-widgets/controls",
          "model_name": "FloatProgressModel",
          "model_module_version": "1.5.0",
          "state": {
            "_dom_classes": [],
            "_model_module": "@jupyter-widgets/controls",
            "_model_module_version": "1.5.0",
            "_model_name": "FloatProgressModel",
            "_view_count": null,
            "_view_module": "@jupyter-widgets/controls",
            "_view_module_version": "1.5.0",
            "_view_name": "ProgressView",
            "bar_style": "success",
            "description": "",
            "description_tooltip": null,
            "layout": "IPY_MODEL_68c4e364e3d146fb9a1bfce7f9ba5d9a",
            "max": 29,
            "min": 0,
            "orientation": "horizontal",
            "style": "IPY_MODEL_b4d27a05e572466d9c1c962f94c79e32",
            "value": 29
          }
        },
        "6d4b93880897468189beac11a1a37026": {
          "model_module": "@jupyter-widgets/controls",
          "model_name": "HTMLModel",
          "model_module_version": "1.5.0",
          "state": {
            "_dom_classes": [],
            "_model_module": "@jupyter-widgets/controls",
            "_model_module_version": "1.5.0",
            "_model_name": "HTMLModel",
            "_view_count": null,
            "_view_module": "@jupyter-widgets/controls",
            "_view_module_version": "1.5.0",
            "_view_name": "HTMLView",
            "description": "",
            "description_tooltip": null,
            "layout": "IPY_MODEL_247995a88e5145388973e026202d6645",
            "placeholder": "​",
            "style": "IPY_MODEL_9fbf6fc38f574bff8ea96f6a9631479b",
            "value": " 29/29 [06:40&lt;00:00, 12.32s/ba]"
          }
        },
        "167a836407744b78b730264874851569": {
          "model_module": "@jupyter-widgets/base",
          "model_name": "LayoutModel",
          "model_module_version": "1.2.0",
          "state": {
            "_model_module": "@jupyter-widgets/base",
            "_model_module_version": "1.2.0",
            "_model_name": "LayoutModel",
            "_view_count": null,
            "_view_module": "@jupyter-widgets/base",
            "_view_module_version": "1.2.0",
            "_view_name": "LayoutView",
            "align_content": null,
            "align_items": null,
            "align_self": null,
            "border": null,
            "bottom": null,
            "display": null,
            "flex": null,
            "flex_flow": null,
            "grid_area": null,
            "grid_auto_columns": null,
            "grid_auto_flow": null,
            "grid_auto_rows": null,
            "grid_column": null,
            "grid_gap": null,
            "grid_row": null,
            "grid_template_areas": null,
            "grid_template_columns": null,
            "grid_template_rows": null,
            "height": null,
            "justify_content": null,
            "justify_items": null,
            "left": null,
            "margin": null,
            "max_height": null,
            "max_width": null,
            "min_height": null,
            "min_width": null,
            "object_fit": null,
            "object_position": null,
            "order": null,
            "overflow": null,
            "overflow_x": null,
            "overflow_y": null,
            "padding": null,
            "right": null,
            "top": null,
            "visibility": null,
            "width": null
          }
        },
        "c76e3b83d32444348a251396cdb5184a": {
          "model_module": "@jupyter-widgets/base",
          "model_name": "LayoutModel",
          "model_module_version": "1.2.0",
          "state": {
            "_model_module": "@jupyter-widgets/base",
            "_model_module_version": "1.2.0",
            "_model_name": "LayoutModel",
            "_view_count": null,
            "_view_module": "@jupyter-widgets/base",
            "_view_module_version": "1.2.0",
            "_view_name": "LayoutView",
            "align_content": null,
            "align_items": null,
            "align_self": null,
            "border": null,
            "bottom": null,
            "display": null,
            "flex": null,
            "flex_flow": null,
            "grid_area": null,
            "grid_auto_columns": null,
            "grid_auto_flow": null,
            "grid_auto_rows": null,
            "grid_column": null,
            "grid_gap": null,
            "grid_row": null,
            "grid_template_areas": null,
            "grid_template_columns": null,
            "grid_template_rows": null,
            "height": null,
            "justify_content": null,
            "justify_items": null,
            "left": null,
            "margin": null,
            "max_height": null,
            "max_width": null,
            "min_height": null,
            "min_width": null,
            "object_fit": null,
            "object_position": null,
            "order": null,
            "overflow": null,
            "overflow_x": null,
            "overflow_y": null,
            "padding": null,
            "right": null,
            "top": null,
            "visibility": null,
            "width": null
          }
        },
        "aea50851ac4c440285fb131e41ac110e": {
          "model_module": "@jupyter-widgets/controls",
          "model_name": "DescriptionStyleModel",
          "model_module_version": "1.5.0",
          "state": {
            "_model_module": "@jupyter-widgets/controls",
            "_model_module_version": "1.5.0",
            "_model_name": "DescriptionStyleModel",
            "_view_count": null,
            "_view_module": "@jupyter-widgets/base",
            "_view_module_version": "1.2.0",
            "_view_name": "StyleView",
            "description_width": ""
          }
        },
        "68c4e364e3d146fb9a1bfce7f9ba5d9a": {
          "model_module": "@jupyter-widgets/base",
          "model_name": "LayoutModel",
          "model_module_version": "1.2.0",
          "state": {
            "_model_module": "@jupyter-widgets/base",
            "_model_module_version": "1.2.0",
            "_model_name": "LayoutModel",
            "_view_count": null,
            "_view_module": "@jupyter-widgets/base",
            "_view_module_version": "1.2.0",
            "_view_name": "LayoutView",
            "align_content": null,
            "align_items": null,
            "align_self": null,
            "border": null,
            "bottom": null,
            "display": null,
            "flex": null,
            "flex_flow": null,
            "grid_area": null,
            "grid_auto_columns": null,
            "grid_auto_flow": null,
            "grid_auto_rows": null,
            "grid_column": null,
            "grid_gap": null,
            "grid_row": null,
            "grid_template_areas": null,
            "grid_template_columns": null,
            "grid_template_rows": null,
            "height": null,
            "justify_content": null,
            "justify_items": null,
            "left": null,
            "margin": null,
            "max_height": null,
            "max_width": null,
            "min_height": null,
            "min_width": null,
            "object_fit": null,
            "object_position": null,
            "order": null,
            "overflow": null,
            "overflow_x": null,
            "overflow_y": null,
            "padding": null,
            "right": null,
            "top": null,
            "visibility": null,
            "width": null
          }
        },
        "b4d27a05e572466d9c1c962f94c79e32": {
          "model_module": "@jupyter-widgets/controls",
          "model_name": "ProgressStyleModel",
          "model_module_version": "1.5.0",
          "state": {
            "_model_module": "@jupyter-widgets/controls",
            "_model_module_version": "1.5.0",
            "_model_name": "ProgressStyleModel",
            "_view_count": null,
            "_view_module": "@jupyter-widgets/base",
            "_view_module_version": "1.2.0",
            "_view_name": "StyleView",
            "bar_color": null,
            "description_width": ""
          }
        },
        "247995a88e5145388973e026202d6645": {
          "model_module": "@jupyter-widgets/base",
          "model_name": "LayoutModel",
          "model_module_version": "1.2.0",
          "state": {
            "_model_module": "@jupyter-widgets/base",
            "_model_module_version": "1.2.0",
            "_model_name": "LayoutModel",
            "_view_count": null,
            "_view_module": "@jupyter-widgets/base",
            "_view_module_version": "1.2.0",
            "_view_name": "LayoutView",
            "align_content": null,
            "align_items": null,
            "align_self": null,
            "border": null,
            "bottom": null,
            "display": null,
            "flex": null,
            "flex_flow": null,
            "grid_area": null,
            "grid_auto_columns": null,
            "grid_auto_flow": null,
            "grid_auto_rows": null,
            "grid_column": null,
            "grid_gap": null,
            "grid_row": null,
            "grid_template_areas": null,
            "grid_template_columns": null,
            "grid_template_rows": null,
            "height": null,
            "justify_content": null,
            "justify_items": null,
            "left": null,
            "margin": null,
            "max_height": null,
            "max_width": null,
            "min_height": null,
            "min_width": null,
            "object_fit": null,
            "object_position": null,
            "order": null,
            "overflow": null,
            "overflow_x": null,
            "overflow_y": null,
            "padding": null,
            "right": null,
            "top": null,
            "visibility": null,
            "width": null
          }
        },
        "9fbf6fc38f574bff8ea96f6a9631479b": {
          "model_module": "@jupyter-widgets/controls",
          "model_name": "DescriptionStyleModel",
          "model_module_version": "1.5.0",
          "state": {
            "_model_module": "@jupyter-widgets/controls",
            "_model_module_version": "1.5.0",
            "_model_name": "DescriptionStyleModel",
            "_view_count": null,
            "_view_module": "@jupyter-widgets/base",
            "_view_module_version": "1.2.0",
            "_view_name": "StyleView",
            "description_width": ""
          }
        },
        "dbeb67b7e2314c5db741ad5989e884a0": {
          "model_module": "@jupyter-widgets/controls",
          "model_name": "HBoxModel",
          "model_module_version": "1.5.0",
          "state": {
            "_dom_classes": [],
            "_model_module": "@jupyter-widgets/controls",
            "_model_module_version": "1.5.0",
            "_model_name": "HBoxModel",
            "_view_count": null,
            "_view_module": "@jupyter-widgets/controls",
            "_view_module_version": "1.5.0",
            "_view_name": "HBoxView",
            "box_style": "",
            "children": [
              "IPY_MODEL_b2b8c450476c4a539422e444be5b58a5",
              "IPY_MODEL_78ba6b37f30044f5b6a409cd572fff9d",
              "IPY_MODEL_34010f1b5b304876ab2dcf9dbcc0f300"
            ],
            "layout": "IPY_MODEL_307bc17abed74f0ba7662a5084a5c714"
          }
        },
        "b2b8c450476c4a539422e444be5b58a5": {
          "model_module": "@jupyter-widgets/controls",
          "model_name": "HTMLModel",
          "model_module_version": "1.5.0",
          "state": {
            "_dom_classes": [],
            "_model_module": "@jupyter-widgets/controls",
            "_model_module_version": "1.5.0",
            "_model_name": "HTMLModel",
            "_view_count": null,
            "_view_module": "@jupyter-widgets/controls",
            "_view_module_version": "1.5.0",
            "_view_name": "HTMLView",
            "description": "",
            "description_tooltip": null,
            "layout": "IPY_MODEL_c22db49a56d445778719ccbece54658a",
            "placeholder": "​",
            "style": "IPY_MODEL_072261c73daf47daad77542fa658b456",
            "value": "100%"
          }
        },
        "78ba6b37f30044f5b6a409cd572fff9d": {
          "model_module": "@jupyter-widgets/controls",
          "model_name": "FloatProgressModel",
          "model_module_version": "1.5.0",
          "state": {
            "_dom_classes": [],
            "_model_module": "@jupyter-widgets/controls",
            "_model_module_version": "1.5.0",
            "_model_name": "FloatProgressModel",
            "_view_count": null,
            "_view_module": "@jupyter-widgets/controls",
            "_view_module_version": "1.5.0",
            "_view_name": "ProgressView",
            "bar_style": "success",
            "description": "",
            "description_tooltip": null,
            "layout": "IPY_MODEL_d004fca5ba4c48a3901225352108a7cb",
            "max": 114,
            "min": 0,
            "orientation": "horizontal",
            "style": "IPY_MODEL_21a5a144c33d4f86b29b4943f1e2b14d",
            "value": 114
          }
        },
        "34010f1b5b304876ab2dcf9dbcc0f300": {
          "model_module": "@jupyter-widgets/controls",
          "model_name": "HTMLModel",
          "model_module_version": "1.5.0",
          "state": {
            "_dom_classes": [],
            "_model_module": "@jupyter-widgets/controls",
            "_model_module_version": "1.5.0",
            "_model_name": "HTMLModel",
            "_view_count": null,
            "_view_module": "@jupyter-widgets/controls",
            "_view_module_version": "1.5.0",
            "_view_name": "HTMLView",
            "description": "",
            "description_tooltip": null,
            "layout": "IPY_MODEL_4377034c0b204b75841ffd0baf2692e1",
            "placeholder": "​",
            "style": "IPY_MODEL_1e38180b42ac47cf88515939d7156e01",
            "value": " 114/114 [00:21&lt;00:00,  5.13ba/s]"
          }
        },
        "307bc17abed74f0ba7662a5084a5c714": {
          "model_module": "@jupyter-widgets/base",
          "model_name": "LayoutModel",
          "model_module_version": "1.2.0",
          "state": {
            "_model_module": "@jupyter-widgets/base",
            "_model_module_version": "1.2.0",
            "_model_name": "LayoutModel",
            "_view_count": null,
            "_view_module": "@jupyter-widgets/base",
            "_view_module_version": "1.2.0",
            "_view_name": "LayoutView",
            "align_content": null,
            "align_items": null,
            "align_self": null,
            "border": null,
            "bottom": null,
            "display": null,
            "flex": null,
            "flex_flow": null,
            "grid_area": null,
            "grid_auto_columns": null,
            "grid_auto_flow": null,
            "grid_auto_rows": null,
            "grid_column": null,
            "grid_gap": null,
            "grid_row": null,
            "grid_template_areas": null,
            "grid_template_columns": null,
            "grid_template_rows": null,
            "height": null,
            "justify_content": null,
            "justify_items": null,
            "left": null,
            "margin": null,
            "max_height": null,
            "max_width": null,
            "min_height": null,
            "min_width": null,
            "object_fit": null,
            "object_position": null,
            "order": null,
            "overflow": null,
            "overflow_x": null,
            "overflow_y": null,
            "padding": null,
            "right": null,
            "top": null,
            "visibility": null,
            "width": null
          }
        },
        "c22db49a56d445778719ccbece54658a": {
          "model_module": "@jupyter-widgets/base",
          "model_name": "LayoutModel",
          "model_module_version": "1.2.0",
          "state": {
            "_model_module": "@jupyter-widgets/base",
            "_model_module_version": "1.2.0",
            "_model_name": "LayoutModel",
            "_view_count": null,
            "_view_module": "@jupyter-widgets/base",
            "_view_module_version": "1.2.0",
            "_view_name": "LayoutView",
            "align_content": null,
            "align_items": null,
            "align_self": null,
            "border": null,
            "bottom": null,
            "display": null,
            "flex": null,
            "flex_flow": null,
            "grid_area": null,
            "grid_auto_columns": null,
            "grid_auto_flow": null,
            "grid_auto_rows": null,
            "grid_column": null,
            "grid_gap": null,
            "grid_row": null,
            "grid_template_areas": null,
            "grid_template_columns": null,
            "grid_template_rows": null,
            "height": null,
            "justify_content": null,
            "justify_items": null,
            "left": null,
            "margin": null,
            "max_height": null,
            "max_width": null,
            "min_height": null,
            "min_width": null,
            "object_fit": null,
            "object_position": null,
            "order": null,
            "overflow": null,
            "overflow_x": null,
            "overflow_y": null,
            "padding": null,
            "right": null,
            "top": null,
            "visibility": null,
            "width": null
          }
        },
        "072261c73daf47daad77542fa658b456": {
          "model_module": "@jupyter-widgets/controls",
          "model_name": "DescriptionStyleModel",
          "model_module_version": "1.5.0",
          "state": {
            "_model_module": "@jupyter-widgets/controls",
            "_model_module_version": "1.5.0",
            "_model_name": "DescriptionStyleModel",
            "_view_count": null,
            "_view_module": "@jupyter-widgets/base",
            "_view_module_version": "1.2.0",
            "_view_name": "StyleView",
            "description_width": ""
          }
        },
        "d004fca5ba4c48a3901225352108a7cb": {
          "model_module": "@jupyter-widgets/base",
          "model_name": "LayoutModel",
          "model_module_version": "1.2.0",
          "state": {
            "_model_module": "@jupyter-widgets/base",
            "_model_module_version": "1.2.0",
            "_model_name": "LayoutModel",
            "_view_count": null,
            "_view_module": "@jupyter-widgets/base",
            "_view_module_version": "1.2.0",
            "_view_name": "LayoutView",
            "align_content": null,
            "align_items": null,
            "align_self": null,
            "border": null,
            "bottom": null,
            "display": null,
            "flex": null,
            "flex_flow": null,
            "grid_area": null,
            "grid_auto_columns": null,
            "grid_auto_flow": null,
            "grid_auto_rows": null,
            "grid_column": null,
            "grid_gap": null,
            "grid_row": null,
            "grid_template_areas": null,
            "grid_template_columns": null,
            "grid_template_rows": null,
            "height": null,
            "justify_content": null,
            "justify_items": null,
            "left": null,
            "margin": null,
            "max_height": null,
            "max_width": null,
            "min_height": null,
            "min_width": null,
            "object_fit": null,
            "object_position": null,
            "order": null,
            "overflow": null,
            "overflow_x": null,
            "overflow_y": null,
            "padding": null,
            "right": null,
            "top": null,
            "visibility": null,
            "width": null
          }
        },
        "21a5a144c33d4f86b29b4943f1e2b14d": {
          "model_module": "@jupyter-widgets/controls",
          "model_name": "ProgressStyleModel",
          "model_module_version": "1.5.0",
          "state": {
            "_model_module": "@jupyter-widgets/controls",
            "_model_module_version": "1.5.0",
            "_model_name": "ProgressStyleModel",
            "_view_count": null,
            "_view_module": "@jupyter-widgets/base",
            "_view_module_version": "1.2.0",
            "_view_name": "StyleView",
            "bar_color": null,
            "description_width": ""
          }
        },
        "4377034c0b204b75841ffd0baf2692e1": {
          "model_module": "@jupyter-widgets/base",
          "model_name": "LayoutModel",
          "model_module_version": "1.2.0",
          "state": {
            "_model_module": "@jupyter-widgets/base",
            "_model_module_version": "1.2.0",
            "_model_name": "LayoutModel",
            "_view_count": null,
            "_view_module": "@jupyter-widgets/base",
            "_view_module_version": "1.2.0",
            "_view_name": "LayoutView",
            "align_content": null,
            "align_items": null,
            "align_self": null,
            "border": null,
            "bottom": null,
            "display": null,
            "flex": null,
            "flex_flow": null,
            "grid_area": null,
            "grid_auto_columns": null,
            "grid_auto_flow": null,
            "grid_auto_rows": null,
            "grid_column": null,
            "grid_gap": null,
            "grid_row": null,
            "grid_template_areas": null,
            "grid_template_columns": null,
            "grid_template_rows": null,
            "height": null,
            "justify_content": null,
            "justify_items": null,
            "left": null,
            "margin": null,
            "max_height": null,
            "max_width": null,
            "min_height": null,
            "min_width": null,
            "object_fit": null,
            "object_position": null,
            "order": null,
            "overflow": null,
            "overflow_x": null,
            "overflow_y": null,
            "padding": null,
            "right": null,
            "top": null,
            "visibility": null,
            "width": null
          }
        },
        "1e38180b42ac47cf88515939d7156e01": {
          "model_module": "@jupyter-widgets/controls",
          "model_name": "DescriptionStyleModel",
          "model_module_version": "1.5.0",
          "state": {
            "_model_module": "@jupyter-widgets/controls",
            "_model_module_version": "1.5.0",
            "_model_name": "DescriptionStyleModel",
            "_view_count": null,
            "_view_module": "@jupyter-widgets/base",
            "_view_module_version": "1.2.0",
            "_view_name": "StyleView",
            "description_width": ""
          }
        },
        "f52e71e838414306bd56a5359338d935": {
          "model_module": "@jupyter-widgets/controls",
          "model_name": "HBoxModel",
          "model_module_version": "1.5.0",
          "state": {
            "_dom_classes": [],
            "_model_module": "@jupyter-widgets/controls",
            "_model_module_version": "1.5.0",
            "_model_name": "HBoxModel",
            "_view_count": null,
            "_view_module": "@jupyter-widgets/controls",
            "_view_module_version": "1.5.0",
            "_view_name": "HBoxView",
            "box_style": "",
            "children": [
              "IPY_MODEL_ad66cac5417f4aceb3595c64d8e1908b",
              "IPY_MODEL_4b16a03c217d4e8cb1ca9e6510450b06",
              "IPY_MODEL_697c2efa6a4943c58942f81d5a25f04a"
            ],
            "layout": "IPY_MODEL_c491a1d71a534126ad776ae89c2fda99"
          }
        },
        "ad66cac5417f4aceb3595c64d8e1908b": {
          "model_module": "@jupyter-widgets/controls",
          "model_name": "HTMLModel",
          "model_module_version": "1.5.0",
          "state": {
            "_dom_classes": [],
            "_model_module": "@jupyter-widgets/controls",
            "_model_module_version": "1.5.0",
            "_model_name": "HTMLModel",
            "_view_count": null,
            "_view_module": "@jupyter-widgets/controls",
            "_view_module_version": "1.5.0",
            "_view_name": "HTMLView",
            "description": "",
            "description_tooltip": null,
            "layout": "IPY_MODEL_d991be3dbb854d8998dd0793cb660821",
            "placeholder": "​",
            "style": "IPY_MODEL_0b28f3a4d35a4feea5e5c794ded81594",
            "value": "100%"
          }
        },
        "4b16a03c217d4e8cb1ca9e6510450b06": {
          "model_module": "@jupyter-widgets/controls",
          "model_name": "FloatProgressModel",
          "model_module_version": "1.5.0",
          "state": {
            "_dom_classes": [],
            "_model_module": "@jupyter-widgets/controls",
            "_model_module_version": "1.5.0",
            "_model_name": "FloatProgressModel",
            "_view_count": null,
            "_view_module": "@jupyter-widgets/controls",
            "_view_module_version": "1.5.0",
            "_view_name": "ProgressView",
            "bar_style": "success",
            "description": "",
            "description_tooltip": null,
            "layout": "IPY_MODEL_922bc07ca31e4ad79754dfc766ebec6e",
            "max": 29,
            "min": 0,
            "orientation": "horizontal",
            "style": "IPY_MODEL_ef50df8ee99347ce9f391a6ac72b97aa",
            "value": 29
          }
        },
        "697c2efa6a4943c58942f81d5a25f04a": {
          "model_module": "@jupyter-widgets/controls",
          "model_name": "HTMLModel",
          "model_module_version": "1.5.0",
          "state": {
            "_dom_classes": [],
            "_model_module": "@jupyter-widgets/controls",
            "_model_module_version": "1.5.0",
            "_model_name": "HTMLModel",
            "_view_count": null,
            "_view_module": "@jupyter-widgets/controls",
            "_view_module_version": "1.5.0",
            "_view_name": "HTMLView",
            "description": "",
            "description_tooltip": null,
            "layout": "IPY_MODEL_9885e1fcd8c14860822310a051f56254",
            "placeholder": "​",
            "style": "IPY_MODEL_f4ac893ac99d4fa9b0eb6471dd2aca7b",
            "value": " 29/29 [02:55&lt;00:00,  5.30s/ba]"
          }
        },
        "c491a1d71a534126ad776ae89c2fda99": {
          "model_module": "@jupyter-widgets/base",
          "model_name": "LayoutModel",
          "model_module_version": "1.2.0",
          "state": {
            "_model_module": "@jupyter-widgets/base",
            "_model_module_version": "1.2.0",
            "_model_name": "LayoutModel",
            "_view_count": null,
            "_view_module": "@jupyter-widgets/base",
            "_view_module_version": "1.2.0",
            "_view_name": "LayoutView",
            "align_content": null,
            "align_items": null,
            "align_self": null,
            "border": null,
            "bottom": null,
            "display": null,
            "flex": null,
            "flex_flow": null,
            "grid_area": null,
            "grid_auto_columns": null,
            "grid_auto_flow": null,
            "grid_auto_rows": null,
            "grid_column": null,
            "grid_gap": null,
            "grid_row": null,
            "grid_template_areas": null,
            "grid_template_columns": null,
            "grid_template_rows": null,
            "height": null,
            "justify_content": null,
            "justify_items": null,
            "left": null,
            "margin": null,
            "max_height": null,
            "max_width": null,
            "min_height": null,
            "min_width": null,
            "object_fit": null,
            "object_position": null,
            "order": null,
            "overflow": null,
            "overflow_x": null,
            "overflow_y": null,
            "padding": null,
            "right": null,
            "top": null,
            "visibility": null,
            "width": null
          }
        },
        "d991be3dbb854d8998dd0793cb660821": {
          "model_module": "@jupyter-widgets/base",
          "model_name": "LayoutModel",
          "model_module_version": "1.2.0",
          "state": {
            "_model_module": "@jupyter-widgets/base",
            "_model_module_version": "1.2.0",
            "_model_name": "LayoutModel",
            "_view_count": null,
            "_view_module": "@jupyter-widgets/base",
            "_view_module_version": "1.2.0",
            "_view_name": "LayoutView",
            "align_content": null,
            "align_items": null,
            "align_self": null,
            "border": null,
            "bottom": null,
            "display": null,
            "flex": null,
            "flex_flow": null,
            "grid_area": null,
            "grid_auto_columns": null,
            "grid_auto_flow": null,
            "grid_auto_rows": null,
            "grid_column": null,
            "grid_gap": null,
            "grid_row": null,
            "grid_template_areas": null,
            "grid_template_columns": null,
            "grid_template_rows": null,
            "height": null,
            "justify_content": null,
            "justify_items": null,
            "left": null,
            "margin": null,
            "max_height": null,
            "max_width": null,
            "min_height": null,
            "min_width": null,
            "object_fit": null,
            "object_position": null,
            "order": null,
            "overflow": null,
            "overflow_x": null,
            "overflow_y": null,
            "padding": null,
            "right": null,
            "top": null,
            "visibility": null,
            "width": null
          }
        },
        "0b28f3a4d35a4feea5e5c794ded81594": {
          "model_module": "@jupyter-widgets/controls",
          "model_name": "DescriptionStyleModel",
          "model_module_version": "1.5.0",
          "state": {
            "_model_module": "@jupyter-widgets/controls",
            "_model_module_version": "1.5.0",
            "_model_name": "DescriptionStyleModel",
            "_view_count": null,
            "_view_module": "@jupyter-widgets/base",
            "_view_module_version": "1.2.0",
            "_view_name": "StyleView",
            "description_width": ""
          }
        },
        "922bc07ca31e4ad79754dfc766ebec6e": {
          "model_module": "@jupyter-widgets/base",
          "model_name": "LayoutModel",
          "model_module_version": "1.2.0",
          "state": {
            "_model_module": "@jupyter-widgets/base",
            "_model_module_version": "1.2.0",
            "_model_name": "LayoutModel",
            "_view_count": null,
            "_view_module": "@jupyter-widgets/base",
            "_view_module_version": "1.2.0",
            "_view_name": "LayoutView",
            "align_content": null,
            "align_items": null,
            "align_self": null,
            "border": null,
            "bottom": null,
            "display": null,
            "flex": null,
            "flex_flow": null,
            "grid_area": null,
            "grid_auto_columns": null,
            "grid_auto_flow": null,
            "grid_auto_rows": null,
            "grid_column": null,
            "grid_gap": null,
            "grid_row": null,
            "grid_template_areas": null,
            "grid_template_columns": null,
            "grid_template_rows": null,
            "height": null,
            "justify_content": null,
            "justify_items": null,
            "left": null,
            "margin": null,
            "max_height": null,
            "max_width": null,
            "min_height": null,
            "min_width": null,
            "object_fit": null,
            "object_position": null,
            "order": null,
            "overflow": null,
            "overflow_x": null,
            "overflow_y": null,
            "padding": null,
            "right": null,
            "top": null,
            "visibility": null,
            "width": null
          }
        },
        "ef50df8ee99347ce9f391a6ac72b97aa": {
          "model_module": "@jupyter-widgets/controls",
          "model_name": "ProgressStyleModel",
          "model_module_version": "1.5.0",
          "state": {
            "_model_module": "@jupyter-widgets/controls",
            "_model_module_version": "1.5.0",
            "_model_name": "ProgressStyleModel",
            "_view_count": null,
            "_view_module": "@jupyter-widgets/base",
            "_view_module_version": "1.2.0",
            "_view_name": "StyleView",
            "bar_color": null,
            "description_width": ""
          }
        },
        "9885e1fcd8c14860822310a051f56254": {
          "model_module": "@jupyter-widgets/base",
          "model_name": "LayoutModel",
          "model_module_version": "1.2.0",
          "state": {
            "_model_module": "@jupyter-widgets/base",
            "_model_module_version": "1.2.0",
            "_model_name": "LayoutModel",
            "_view_count": null,
            "_view_module": "@jupyter-widgets/base",
            "_view_module_version": "1.2.0",
            "_view_name": "LayoutView",
            "align_content": null,
            "align_items": null,
            "align_self": null,
            "border": null,
            "bottom": null,
            "display": null,
            "flex": null,
            "flex_flow": null,
            "grid_area": null,
            "grid_auto_columns": null,
            "grid_auto_flow": null,
            "grid_auto_rows": null,
            "grid_column": null,
            "grid_gap": null,
            "grid_row": null,
            "grid_template_areas": null,
            "grid_template_columns": null,
            "grid_template_rows": null,
            "height": null,
            "justify_content": null,
            "justify_items": null,
            "left": null,
            "margin": null,
            "max_height": null,
            "max_width": null,
            "min_height": null,
            "min_width": null,
            "object_fit": null,
            "object_position": null,
            "order": null,
            "overflow": null,
            "overflow_x": null,
            "overflow_y": null,
            "padding": null,
            "right": null,
            "top": null,
            "visibility": null,
            "width": null
          }
        },
        "f4ac893ac99d4fa9b0eb6471dd2aca7b": {
          "model_module": "@jupyter-widgets/controls",
          "model_name": "DescriptionStyleModel",
          "model_module_version": "1.5.0",
          "state": {
            "_model_module": "@jupyter-widgets/controls",
            "_model_module_version": "1.5.0",
            "_model_name": "DescriptionStyleModel",
            "_view_count": null,
            "_view_module": "@jupyter-widgets/base",
            "_view_module_version": "1.2.0",
            "_view_name": "StyleView",
            "description_width": ""
          }
        },
        "7f8aa07401ee415486806a9761a6eb66": {
          "model_module": "@jupyter-widgets/controls",
          "model_name": "HBoxModel",
          "model_module_version": "1.5.0",
          "state": {
            "_dom_classes": [],
            "_model_module": "@jupyter-widgets/controls",
            "_model_module_version": "1.5.0",
            "_model_name": "HBoxModel",
            "_view_count": null,
            "_view_module": "@jupyter-widgets/controls",
            "_view_module_version": "1.5.0",
            "_view_name": "HBoxView",
            "box_style": "",
            "children": [
              "IPY_MODEL_285feab220f8483fb851a75181847636",
              "IPY_MODEL_b4f1ff0189b34ff4b4ee46db7c602675",
              "IPY_MODEL_d15c3c10652149f398cdbea351bea034"
            ],
            "layout": "IPY_MODEL_f9f24df609774fb599c04beaf3db7a24"
          }
        },
        "285feab220f8483fb851a75181847636": {
          "model_module": "@jupyter-widgets/controls",
          "model_name": "HTMLModel",
          "model_module_version": "1.5.0",
          "state": {
            "_dom_classes": [],
            "_model_module": "@jupyter-widgets/controls",
            "_model_module_version": "1.5.0",
            "_model_name": "HTMLModel",
            "_view_count": null,
            "_view_module": "@jupyter-widgets/controls",
            "_view_module_version": "1.5.0",
            "_view_name": "HTMLView",
            "description": "",
            "description_tooltip": null,
            "layout": "IPY_MODEL_dd3f2042eecf44c5895f550ad2fa6503",
            "placeholder": "​",
            "style": "IPY_MODEL_0649dc6c86544d038b5cc2a89306ef1b",
            "value": "100%"
          }
        },
        "b4f1ff0189b34ff4b4ee46db7c602675": {
          "model_module": "@jupyter-widgets/controls",
          "model_name": "FloatProgressModel",
          "model_module_version": "1.5.0",
          "state": {
            "_dom_classes": [],
            "_model_module": "@jupyter-widgets/controls",
            "_model_module_version": "1.5.0",
            "_model_name": "FloatProgressModel",
            "_view_count": null,
            "_view_module": "@jupyter-widgets/controls",
            "_view_module_version": "1.5.0",
            "_view_name": "ProgressView",
            "bar_style": "success",
            "description": "",
            "description_tooltip": null,
            "layout": "IPY_MODEL_d2a39ef279c1488c81e0ae68357a2bff",
            "max": 15,
            "min": 0,
            "orientation": "horizontal",
            "style": "IPY_MODEL_2f7b041919e54eb1a5f6377e64518cc9",
            "value": 15
          }
        },
        "d15c3c10652149f398cdbea351bea034": {
          "model_module": "@jupyter-widgets/controls",
          "model_name": "HTMLModel",
          "model_module_version": "1.5.0",
          "state": {
            "_dom_classes": [],
            "_model_module": "@jupyter-widgets/controls",
            "_model_module_version": "1.5.0",
            "_model_name": "HTMLModel",
            "_view_count": null,
            "_view_module": "@jupyter-widgets/controls",
            "_view_module_version": "1.5.0",
            "_view_name": "HTMLView",
            "description": "",
            "description_tooltip": null,
            "layout": "IPY_MODEL_22699e74ecb140d6a412ab896b4f61de",
            "placeholder": "​",
            "style": "IPY_MODEL_fe71fbc57e6c43f8be5b1eb1dad43e01",
            "value": " 15/15 [00:01&lt;00:00,  7.50ba/s]"
          }
        },
        "f9f24df609774fb599c04beaf3db7a24": {
          "model_module": "@jupyter-widgets/base",
          "model_name": "LayoutModel",
          "model_module_version": "1.2.0",
          "state": {
            "_model_module": "@jupyter-widgets/base",
            "_model_module_version": "1.2.0",
            "_model_name": "LayoutModel",
            "_view_count": null,
            "_view_module": "@jupyter-widgets/base",
            "_view_module_version": "1.2.0",
            "_view_name": "LayoutView",
            "align_content": null,
            "align_items": null,
            "align_self": null,
            "border": null,
            "bottom": null,
            "display": null,
            "flex": null,
            "flex_flow": null,
            "grid_area": null,
            "grid_auto_columns": null,
            "grid_auto_flow": null,
            "grid_auto_rows": null,
            "grid_column": null,
            "grid_gap": null,
            "grid_row": null,
            "grid_template_areas": null,
            "grid_template_columns": null,
            "grid_template_rows": null,
            "height": null,
            "justify_content": null,
            "justify_items": null,
            "left": null,
            "margin": null,
            "max_height": null,
            "max_width": null,
            "min_height": null,
            "min_width": null,
            "object_fit": null,
            "object_position": null,
            "order": null,
            "overflow": null,
            "overflow_x": null,
            "overflow_y": null,
            "padding": null,
            "right": null,
            "top": null,
            "visibility": null,
            "width": null
          }
        },
        "dd3f2042eecf44c5895f550ad2fa6503": {
          "model_module": "@jupyter-widgets/base",
          "model_name": "LayoutModel",
          "model_module_version": "1.2.0",
          "state": {
            "_model_module": "@jupyter-widgets/base",
            "_model_module_version": "1.2.0",
            "_model_name": "LayoutModel",
            "_view_count": null,
            "_view_module": "@jupyter-widgets/base",
            "_view_module_version": "1.2.0",
            "_view_name": "LayoutView",
            "align_content": null,
            "align_items": null,
            "align_self": null,
            "border": null,
            "bottom": null,
            "display": null,
            "flex": null,
            "flex_flow": null,
            "grid_area": null,
            "grid_auto_columns": null,
            "grid_auto_flow": null,
            "grid_auto_rows": null,
            "grid_column": null,
            "grid_gap": null,
            "grid_row": null,
            "grid_template_areas": null,
            "grid_template_columns": null,
            "grid_template_rows": null,
            "height": null,
            "justify_content": null,
            "justify_items": null,
            "left": null,
            "margin": null,
            "max_height": null,
            "max_width": null,
            "min_height": null,
            "min_width": null,
            "object_fit": null,
            "object_position": null,
            "order": null,
            "overflow": null,
            "overflow_x": null,
            "overflow_y": null,
            "padding": null,
            "right": null,
            "top": null,
            "visibility": null,
            "width": null
          }
        },
        "0649dc6c86544d038b5cc2a89306ef1b": {
          "model_module": "@jupyter-widgets/controls",
          "model_name": "DescriptionStyleModel",
          "model_module_version": "1.5.0",
          "state": {
            "_model_module": "@jupyter-widgets/controls",
            "_model_module_version": "1.5.0",
            "_model_name": "DescriptionStyleModel",
            "_view_count": null,
            "_view_module": "@jupyter-widgets/base",
            "_view_module_version": "1.2.0",
            "_view_name": "StyleView",
            "description_width": ""
          }
        },
        "d2a39ef279c1488c81e0ae68357a2bff": {
          "model_module": "@jupyter-widgets/base",
          "model_name": "LayoutModel",
          "model_module_version": "1.2.0",
          "state": {
            "_model_module": "@jupyter-widgets/base",
            "_model_module_version": "1.2.0",
            "_model_name": "LayoutModel",
            "_view_count": null,
            "_view_module": "@jupyter-widgets/base",
            "_view_module_version": "1.2.0",
            "_view_name": "LayoutView",
            "align_content": null,
            "align_items": null,
            "align_self": null,
            "border": null,
            "bottom": null,
            "display": null,
            "flex": null,
            "flex_flow": null,
            "grid_area": null,
            "grid_auto_columns": null,
            "grid_auto_flow": null,
            "grid_auto_rows": null,
            "grid_column": null,
            "grid_gap": null,
            "grid_row": null,
            "grid_template_areas": null,
            "grid_template_columns": null,
            "grid_template_rows": null,
            "height": null,
            "justify_content": null,
            "justify_items": null,
            "left": null,
            "margin": null,
            "max_height": null,
            "max_width": null,
            "min_height": null,
            "min_width": null,
            "object_fit": null,
            "object_position": null,
            "order": null,
            "overflow": null,
            "overflow_x": null,
            "overflow_y": null,
            "padding": null,
            "right": null,
            "top": null,
            "visibility": null,
            "width": null
          }
        },
        "2f7b041919e54eb1a5f6377e64518cc9": {
          "model_module": "@jupyter-widgets/controls",
          "model_name": "ProgressStyleModel",
          "model_module_version": "1.5.0",
          "state": {
            "_model_module": "@jupyter-widgets/controls",
            "_model_module_version": "1.5.0",
            "_model_name": "ProgressStyleModel",
            "_view_count": null,
            "_view_module": "@jupyter-widgets/base",
            "_view_module_version": "1.2.0",
            "_view_name": "StyleView",
            "bar_color": null,
            "description_width": ""
          }
        },
        "22699e74ecb140d6a412ab896b4f61de": {
          "model_module": "@jupyter-widgets/base",
          "model_name": "LayoutModel",
          "model_module_version": "1.2.0",
          "state": {
            "_model_module": "@jupyter-widgets/base",
            "_model_module_version": "1.2.0",
            "_model_name": "LayoutModel",
            "_view_count": null,
            "_view_module": "@jupyter-widgets/base",
            "_view_module_version": "1.2.0",
            "_view_name": "LayoutView",
            "align_content": null,
            "align_items": null,
            "align_self": null,
            "border": null,
            "bottom": null,
            "display": null,
            "flex": null,
            "flex_flow": null,
            "grid_area": null,
            "grid_auto_columns": null,
            "grid_auto_flow": null,
            "grid_auto_rows": null,
            "grid_column": null,
            "grid_gap": null,
            "grid_row": null,
            "grid_template_areas": null,
            "grid_template_columns": null,
            "grid_template_rows": null,
            "height": null,
            "justify_content": null,
            "justify_items": null,
            "left": null,
            "margin": null,
            "max_height": null,
            "max_width": null,
            "min_height": null,
            "min_width": null,
            "object_fit": null,
            "object_position": null,
            "order": null,
            "overflow": null,
            "overflow_x": null,
            "overflow_y": null,
            "padding": null,
            "right": null,
            "top": null,
            "visibility": null,
            "width": null
          }
        },
        "fe71fbc57e6c43f8be5b1eb1dad43e01": {
          "model_module": "@jupyter-widgets/controls",
          "model_name": "DescriptionStyleModel",
          "model_module_version": "1.5.0",
          "state": {
            "_model_module": "@jupyter-widgets/controls",
            "_model_module_version": "1.5.0",
            "_model_name": "DescriptionStyleModel",
            "_view_count": null,
            "_view_module": "@jupyter-widgets/base",
            "_view_module_version": "1.2.0",
            "_view_name": "StyleView",
            "description_width": ""
          }
        },
        "969c53e999f64f25b084eadbcfef0b34": {
          "model_module": "@jupyter-widgets/controls",
          "model_name": "VBoxModel",
          "model_module_version": "1.5.0",
          "state": {
            "_dom_classes": [],
            "_model_module": "@jupyter-widgets/controls",
            "_model_module_version": "1.5.0",
            "_model_name": "VBoxModel",
            "_view_count": null,
            "_view_module": "@jupyter-widgets/controls",
            "_view_module_version": "1.5.0",
            "_view_name": "VBoxView",
            "box_style": "",
            "children": [
              "IPY_MODEL_f399ab5f118f456199d8c8d5272800f7",
              "IPY_MODEL_16729b58a4eb4fb8ba0b9f6608863300",
              "IPY_MODEL_615b3f1a1a8b4c10bc61469ee83a9317",
              "IPY_MODEL_b67092c9c81d4ebaa164504ea7e3f0b2"
            ],
            "layout": "IPY_MODEL_f3d1217df72140d4a789c388856954b3"
          }
        },
        "f399ab5f118f456199d8c8d5272800f7": {
          "model_module": "@jupyter-widgets/controls",
          "model_name": "HTMLModel",
          "model_module_version": "1.5.0",
          "state": {
            "_dom_classes": [],
            "_model_module": "@jupyter-widgets/controls",
            "_model_module_version": "1.5.0",
            "_model_name": "HTMLModel",
            "_view_count": null,
            "_view_module": "@jupyter-widgets/controls",
            "_view_module_version": "1.5.0",
            "_view_name": "HTMLView",
            "description": "",
            "description_tooltip": null,
            "layout": "IPY_MODEL_d7184ba5417947e897fc1dc8b0113981",
            "placeholder": "​",
            "style": "IPY_MODEL_f8044c9576ce479bb0466b2234b3714d",
            "value": "<center> <img\nsrc=https://huggingface.co/front/assets/huggingface_logo-noborder.svg\nalt='Hugging Face'> <br> Copy a token from <a\nhref=\"https://huggingface.co/settings/tokens\" target=\"_blank\">your Hugging Face\ntokens page</a> and paste it below. <br> Immediately click login after copying\nyour token or it might be stored in plain text in this notebook file. </center>"
          }
        },
        "16729b58a4eb4fb8ba0b9f6608863300": {
          "model_module": "@jupyter-widgets/controls",
          "model_name": "PasswordModel",
          "model_module_version": "1.5.0",
          "state": {
            "_dom_classes": [],
            "_model_module": "@jupyter-widgets/controls",
            "_model_module_version": "1.5.0",
            "_model_name": "PasswordModel",
            "_view_count": null,
            "_view_module": "@jupyter-widgets/controls",
            "_view_module_version": "1.5.0",
            "_view_name": "PasswordView",
            "continuous_update": true,
            "description": "Token:",
            "description_tooltip": null,
            "disabled": false,
            "layout": "IPY_MODEL_6cfc49425fdd455195d8f5f75b97d4b5",
            "placeholder": "​",
            "style": "IPY_MODEL_3f3c6caab82547729a1d72b1938bde12",
            "value": ""
          }
        },
        "615b3f1a1a8b4c10bc61469ee83a9317": {
          "model_module": "@jupyter-widgets/controls",
          "model_name": "ButtonModel",
          "model_module_version": "1.5.0",
          "state": {
            "_dom_classes": [],
            "_model_module": "@jupyter-widgets/controls",
            "_model_module_version": "1.5.0",
            "_model_name": "ButtonModel",
            "_view_count": null,
            "_view_module": "@jupyter-widgets/controls",
            "_view_module_version": "1.5.0",
            "_view_name": "ButtonView",
            "button_style": "",
            "description": "Login",
            "disabled": false,
            "icon": "",
            "layout": "IPY_MODEL_d85a33160524461a9377c8ee566616b2",
            "style": "IPY_MODEL_42873ce491d14b7dafedccf200bb2b57",
            "tooltip": ""
          }
        },
        "b67092c9c81d4ebaa164504ea7e3f0b2": {
          "model_module": "@jupyter-widgets/controls",
          "model_name": "HTMLModel",
          "model_module_version": "1.5.0",
          "state": {
            "_dom_classes": [],
            "_model_module": "@jupyter-widgets/controls",
            "_model_module_version": "1.5.0",
            "_model_name": "HTMLModel",
            "_view_count": null,
            "_view_module": "@jupyter-widgets/controls",
            "_view_module_version": "1.5.0",
            "_view_name": "HTMLView",
            "description": "",
            "description_tooltip": null,
            "layout": "IPY_MODEL_da8e26341c6b46aba60db847c970f3d9",
            "placeholder": "​",
            "style": "IPY_MODEL_ef1915aa07c54e8b8ffdd98ffee6461e",
            "value": "\n<b>Pro Tip:</b> If you don't already have one, you can create a dedicated\n'notebooks' token with 'write' access, that you can then easily reuse for all\nnotebooks. </center>"
          }
        },
        "f3d1217df72140d4a789c388856954b3": {
          "model_module": "@jupyter-widgets/base",
          "model_name": "LayoutModel",
          "model_module_version": "1.2.0",
          "state": {
            "_model_module": "@jupyter-widgets/base",
            "_model_module_version": "1.2.0",
            "_model_name": "LayoutModel",
            "_view_count": null,
            "_view_module": "@jupyter-widgets/base",
            "_view_module_version": "1.2.0",
            "_view_name": "LayoutView",
            "align_content": null,
            "align_items": "center",
            "align_self": null,
            "border": null,
            "bottom": null,
            "display": "flex",
            "flex": null,
            "flex_flow": "column",
            "grid_area": null,
            "grid_auto_columns": null,
            "grid_auto_flow": null,
            "grid_auto_rows": null,
            "grid_column": null,
            "grid_gap": null,
            "grid_row": null,
            "grid_template_areas": null,
            "grid_template_columns": null,
            "grid_template_rows": null,
            "height": null,
            "justify_content": null,
            "justify_items": null,
            "left": null,
            "margin": null,
            "max_height": null,
            "max_width": null,
            "min_height": null,
            "min_width": null,
            "object_fit": null,
            "object_position": null,
            "order": null,
            "overflow": null,
            "overflow_x": null,
            "overflow_y": null,
            "padding": null,
            "right": null,
            "top": null,
            "visibility": null,
            "width": "50%"
          }
        },
        "d7184ba5417947e897fc1dc8b0113981": {
          "model_module": "@jupyter-widgets/base",
          "model_name": "LayoutModel",
          "model_module_version": "1.2.0",
          "state": {
            "_model_module": "@jupyter-widgets/base",
            "_model_module_version": "1.2.0",
            "_model_name": "LayoutModel",
            "_view_count": null,
            "_view_module": "@jupyter-widgets/base",
            "_view_module_version": "1.2.0",
            "_view_name": "LayoutView",
            "align_content": null,
            "align_items": null,
            "align_self": null,
            "border": null,
            "bottom": null,
            "display": null,
            "flex": null,
            "flex_flow": null,
            "grid_area": null,
            "grid_auto_columns": null,
            "grid_auto_flow": null,
            "grid_auto_rows": null,
            "grid_column": null,
            "grid_gap": null,
            "grid_row": null,
            "grid_template_areas": null,
            "grid_template_columns": null,
            "grid_template_rows": null,
            "height": null,
            "justify_content": null,
            "justify_items": null,
            "left": null,
            "margin": null,
            "max_height": null,
            "max_width": null,
            "min_height": null,
            "min_width": null,
            "object_fit": null,
            "object_position": null,
            "order": null,
            "overflow": null,
            "overflow_x": null,
            "overflow_y": null,
            "padding": null,
            "right": null,
            "top": null,
            "visibility": null,
            "width": null
          }
        },
        "f8044c9576ce479bb0466b2234b3714d": {
          "model_module": "@jupyter-widgets/controls",
          "model_name": "DescriptionStyleModel",
          "model_module_version": "1.5.0",
          "state": {
            "_model_module": "@jupyter-widgets/controls",
            "_model_module_version": "1.5.0",
            "_model_name": "DescriptionStyleModel",
            "_view_count": null,
            "_view_module": "@jupyter-widgets/base",
            "_view_module_version": "1.2.0",
            "_view_name": "StyleView",
            "description_width": ""
          }
        },
        "6cfc49425fdd455195d8f5f75b97d4b5": {
          "model_module": "@jupyter-widgets/base",
          "model_name": "LayoutModel",
          "model_module_version": "1.2.0",
          "state": {
            "_model_module": "@jupyter-widgets/base",
            "_model_module_version": "1.2.0",
            "_model_name": "LayoutModel",
            "_view_count": null,
            "_view_module": "@jupyter-widgets/base",
            "_view_module_version": "1.2.0",
            "_view_name": "LayoutView",
            "align_content": null,
            "align_items": null,
            "align_self": null,
            "border": null,
            "bottom": null,
            "display": null,
            "flex": null,
            "flex_flow": null,
            "grid_area": null,
            "grid_auto_columns": null,
            "grid_auto_flow": null,
            "grid_auto_rows": null,
            "grid_column": null,
            "grid_gap": null,
            "grid_row": null,
            "grid_template_areas": null,
            "grid_template_columns": null,
            "grid_template_rows": null,
            "height": null,
            "justify_content": null,
            "justify_items": null,
            "left": null,
            "margin": null,
            "max_height": null,
            "max_width": null,
            "min_height": null,
            "min_width": null,
            "object_fit": null,
            "object_position": null,
            "order": null,
            "overflow": null,
            "overflow_x": null,
            "overflow_y": null,
            "padding": null,
            "right": null,
            "top": null,
            "visibility": null,
            "width": null
          }
        },
        "3f3c6caab82547729a1d72b1938bde12": {
          "model_module": "@jupyter-widgets/controls",
          "model_name": "DescriptionStyleModel",
          "model_module_version": "1.5.0",
          "state": {
            "_model_module": "@jupyter-widgets/controls",
            "_model_module_version": "1.5.0",
            "_model_name": "DescriptionStyleModel",
            "_view_count": null,
            "_view_module": "@jupyter-widgets/base",
            "_view_module_version": "1.2.0",
            "_view_name": "StyleView",
            "description_width": ""
          }
        },
        "d85a33160524461a9377c8ee566616b2": {
          "model_module": "@jupyter-widgets/base",
          "model_name": "LayoutModel",
          "model_module_version": "1.2.0",
          "state": {
            "_model_module": "@jupyter-widgets/base",
            "_model_module_version": "1.2.0",
            "_model_name": "LayoutModel",
            "_view_count": null,
            "_view_module": "@jupyter-widgets/base",
            "_view_module_version": "1.2.0",
            "_view_name": "LayoutView",
            "align_content": null,
            "align_items": null,
            "align_self": null,
            "border": null,
            "bottom": null,
            "display": null,
            "flex": null,
            "flex_flow": null,
            "grid_area": null,
            "grid_auto_columns": null,
            "grid_auto_flow": null,
            "grid_auto_rows": null,
            "grid_column": null,
            "grid_gap": null,
            "grid_row": null,
            "grid_template_areas": null,
            "grid_template_columns": null,
            "grid_template_rows": null,
            "height": null,
            "justify_content": null,
            "justify_items": null,
            "left": null,
            "margin": null,
            "max_height": null,
            "max_width": null,
            "min_height": null,
            "min_width": null,
            "object_fit": null,
            "object_position": null,
            "order": null,
            "overflow": null,
            "overflow_x": null,
            "overflow_y": null,
            "padding": null,
            "right": null,
            "top": null,
            "visibility": null,
            "width": null
          }
        },
        "42873ce491d14b7dafedccf200bb2b57": {
          "model_module": "@jupyter-widgets/controls",
          "model_name": "ButtonStyleModel",
          "model_module_version": "1.5.0",
          "state": {
            "_model_module": "@jupyter-widgets/controls",
            "_model_module_version": "1.5.0",
            "_model_name": "ButtonStyleModel",
            "_view_count": null,
            "_view_module": "@jupyter-widgets/base",
            "_view_module_version": "1.2.0",
            "_view_name": "StyleView",
            "button_color": null,
            "font_weight": ""
          }
        },
        "da8e26341c6b46aba60db847c970f3d9": {
          "model_module": "@jupyter-widgets/base",
          "model_name": "LayoutModel",
          "model_module_version": "1.2.0",
          "state": {
            "_model_module": "@jupyter-widgets/base",
            "_model_module_version": "1.2.0",
            "_model_name": "LayoutModel",
            "_view_count": null,
            "_view_module": "@jupyter-widgets/base",
            "_view_module_version": "1.2.0",
            "_view_name": "LayoutView",
            "align_content": null,
            "align_items": null,
            "align_self": null,
            "border": null,
            "bottom": null,
            "display": null,
            "flex": null,
            "flex_flow": null,
            "grid_area": null,
            "grid_auto_columns": null,
            "grid_auto_flow": null,
            "grid_auto_rows": null,
            "grid_column": null,
            "grid_gap": null,
            "grid_row": null,
            "grid_template_areas": null,
            "grid_template_columns": null,
            "grid_template_rows": null,
            "height": null,
            "justify_content": null,
            "justify_items": null,
            "left": null,
            "margin": null,
            "max_height": null,
            "max_width": null,
            "min_height": null,
            "min_width": null,
            "object_fit": null,
            "object_position": null,
            "order": null,
            "overflow": null,
            "overflow_x": null,
            "overflow_y": null,
            "padding": null,
            "right": null,
            "top": null,
            "visibility": null,
            "width": null
          }
        },
        "ef1915aa07c54e8b8ffdd98ffee6461e": {
          "model_module": "@jupyter-widgets/controls",
          "model_name": "DescriptionStyleModel",
          "model_module_version": "1.5.0",
          "state": {
            "_model_module": "@jupyter-widgets/controls",
            "_model_module_version": "1.5.0",
            "_model_name": "DescriptionStyleModel",
            "_view_count": null,
            "_view_module": "@jupyter-widgets/base",
            "_view_module_version": "1.2.0",
            "_view_name": "StyleView",
            "description_width": ""
          }
        },
        "90db505a401c42fc84566af2c66076e1": {
          "model_module": "@jupyter-widgets/controls",
          "model_name": "HBoxModel",
          "model_module_version": "1.5.0",
          "state": {
            "_dom_classes": [],
            "_model_module": "@jupyter-widgets/controls",
            "_model_module_version": "1.5.0",
            "_model_name": "HBoxModel",
            "_view_count": null,
            "_view_module": "@jupyter-widgets/controls",
            "_view_module_version": "1.5.0",
            "_view_name": "HBoxView",
            "box_style": "",
            "children": [
              "IPY_MODEL_0431705ccf3c4e82851c9d4e0277e52a",
              "IPY_MODEL_1de1ef12c68440acaa3fd7ec36c937b8",
              "IPY_MODEL_1277200380d4432e94ce5c49cd649a95"
            ],
            "layout": "IPY_MODEL_a8afb963e0a840cfb33bd547db6fa02a"
          }
        },
        "0431705ccf3c4e82851c9d4e0277e52a": {
          "model_module": "@jupyter-widgets/controls",
          "model_name": "HTMLModel",
          "model_module_version": "1.5.0",
          "state": {
            "_dom_classes": [],
            "_model_module": "@jupyter-widgets/controls",
            "_model_module_version": "1.5.0",
            "_model_name": "HTMLModel",
            "_view_count": null,
            "_view_module": "@jupyter-widgets/controls",
            "_view_module_version": "1.5.0",
            "_view_name": "HTMLView",
            "description": "",
            "description_tooltip": null,
            "layout": "IPY_MODEL_f296402b495a4a9a863c9e7e9eb5d2ae",
            "placeholder": "​",
            "style": "IPY_MODEL_485b5c5d04ac443fa4059b15924d9310",
            "value": "Upload file runs/Aug08_01-43-03_3f560333a24e/events.out.tfevents.1659922988.3f560333a24e.483.0: 100%"
          }
        },
        "1de1ef12c68440acaa3fd7ec36c937b8": {
          "model_module": "@jupyter-widgets/controls",
          "model_name": "FloatProgressModel",
          "model_module_version": "1.5.0",
          "state": {
            "_dom_classes": [],
            "_model_module": "@jupyter-widgets/controls",
            "_model_module_version": "1.5.0",
            "_model_name": "FloatProgressModel",
            "_view_count": null,
            "_view_module": "@jupyter-widgets/controls",
            "_view_module_version": "1.5.0",
            "_view_name": "ProgressView",
            "bar_style": "success",
            "description": "",
            "description_tooltip": null,
            "layout": "IPY_MODEL_056d35e96e7344ddbde48e7350b5cdd4",
            "max": 5259,
            "min": 0,
            "orientation": "horizontal",
            "style": "IPY_MODEL_9ee7c43d8e2f46768cdb6d42000bc085",
            "value": 5259
          }
        },
        "1277200380d4432e94ce5c49cd649a95": {
          "model_module": "@jupyter-widgets/controls",
          "model_name": "HTMLModel",
          "model_module_version": "1.5.0",
          "state": {
            "_dom_classes": [],
            "_model_module": "@jupyter-widgets/controls",
            "_model_module_version": "1.5.0",
            "_model_name": "HTMLModel",
            "_view_count": null,
            "_view_module": "@jupyter-widgets/controls",
            "_view_module_version": "1.5.0",
            "_view_name": "HTMLView",
            "description": "",
            "description_tooltip": null,
            "layout": "IPY_MODEL_0239d9296ffa46ca9a5f2480878adcbb",
            "placeholder": "​",
            "style": "IPY_MODEL_441d0e8a3bf34dc3a59dcbc1a72bbd72",
            "value": " 5.14k/5.14k [00:01&lt;00:00, 1.69kB/s]"
          }
        },
        "a8afb963e0a840cfb33bd547db6fa02a": {
          "model_module": "@jupyter-widgets/base",
          "model_name": "LayoutModel",
          "model_module_version": "1.2.0",
          "state": {
            "_model_module": "@jupyter-widgets/base",
            "_model_module_version": "1.2.0",
            "_model_name": "LayoutModel",
            "_view_count": null,
            "_view_module": "@jupyter-widgets/base",
            "_view_module_version": "1.2.0",
            "_view_name": "LayoutView",
            "align_content": null,
            "align_items": null,
            "align_self": null,
            "border": null,
            "bottom": null,
            "display": null,
            "flex": null,
            "flex_flow": null,
            "grid_area": null,
            "grid_auto_columns": null,
            "grid_auto_flow": null,
            "grid_auto_rows": null,
            "grid_column": null,
            "grid_gap": null,
            "grid_row": null,
            "grid_template_areas": null,
            "grid_template_columns": null,
            "grid_template_rows": null,
            "height": null,
            "justify_content": null,
            "justify_items": null,
            "left": null,
            "margin": null,
            "max_height": null,
            "max_width": null,
            "min_height": null,
            "min_width": null,
            "object_fit": null,
            "object_position": null,
            "order": null,
            "overflow": null,
            "overflow_x": null,
            "overflow_y": null,
            "padding": null,
            "right": null,
            "top": null,
            "visibility": null,
            "width": null
          }
        },
        "f296402b495a4a9a863c9e7e9eb5d2ae": {
          "model_module": "@jupyter-widgets/base",
          "model_name": "LayoutModel",
          "model_module_version": "1.2.0",
          "state": {
            "_model_module": "@jupyter-widgets/base",
            "_model_module_version": "1.2.0",
            "_model_name": "LayoutModel",
            "_view_count": null,
            "_view_module": "@jupyter-widgets/base",
            "_view_module_version": "1.2.0",
            "_view_name": "LayoutView",
            "align_content": null,
            "align_items": null,
            "align_self": null,
            "border": null,
            "bottom": null,
            "display": null,
            "flex": null,
            "flex_flow": null,
            "grid_area": null,
            "grid_auto_columns": null,
            "grid_auto_flow": null,
            "grid_auto_rows": null,
            "grid_column": null,
            "grid_gap": null,
            "grid_row": null,
            "grid_template_areas": null,
            "grid_template_columns": null,
            "grid_template_rows": null,
            "height": null,
            "justify_content": null,
            "justify_items": null,
            "left": null,
            "margin": null,
            "max_height": null,
            "max_width": null,
            "min_height": null,
            "min_width": null,
            "object_fit": null,
            "object_position": null,
            "order": null,
            "overflow": null,
            "overflow_x": null,
            "overflow_y": null,
            "padding": null,
            "right": null,
            "top": null,
            "visibility": null,
            "width": null
          }
        },
        "485b5c5d04ac443fa4059b15924d9310": {
          "model_module": "@jupyter-widgets/controls",
          "model_name": "DescriptionStyleModel",
          "model_module_version": "1.5.0",
          "state": {
            "_model_module": "@jupyter-widgets/controls",
            "_model_module_version": "1.5.0",
            "_model_name": "DescriptionStyleModel",
            "_view_count": null,
            "_view_module": "@jupyter-widgets/base",
            "_view_module_version": "1.2.0",
            "_view_name": "StyleView",
            "description_width": ""
          }
        },
        "056d35e96e7344ddbde48e7350b5cdd4": {
          "model_module": "@jupyter-widgets/base",
          "model_name": "LayoutModel",
          "model_module_version": "1.2.0",
          "state": {
            "_model_module": "@jupyter-widgets/base",
            "_model_module_version": "1.2.0",
            "_model_name": "LayoutModel",
            "_view_count": null,
            "_view_module": "@jupyter-widgets/base",
            "_view_module_version": "1.2.0",
            "_view_name": "LayoutView",
            "align_content": null,
            "align_items": null,
            "align_self": null,
            "border": null,
            "bottom": null,
            "display": null,
            "flex": null,
            "flex_flow": null,
            "grid_area": null,
            "grid_auto_columns": null,
            "grid_auto_flow": null,
            "grid_auto_rows": null,
            "grid_column": null,
            "grid_gap": null,
            "grid_row": null,
            "grid_template_areas": null,
            "grid_template_columns": null,
            "grid_template_rows": null,
            "height": null,
            "justify_content": null,
            "justify_items": null,
            "left": null,
            "margin": null,
            "max_height": null,
            "max_width": null,
            "min_height": null,
            "min_width": null,
            "object_fit": null,
            "object_position": null,
            "order": null,
            "overflow": null,
            "overflow_x": null,
            "overflow_y": null,
            "padding": null,
            "right": null,
            "top": null,
            "visibility": null,
            "width": null
          }
        },
        "9ee7c43d8e2f46768cdb6d42000bc085": {
          "model_module": "@jupyter-widgets/controls",
          "model_name": "ProgressStyleModel",
          "model_module_version": "1.5.0",
          "state": {
            "_model_module": "@jupyter-widgets/controls",
            "_model_module_version": "1.5.0",
            "_model_name": "ProgressStyleModel",
            "_view_count": null,
            "_view_module": "@jupyter-widgets/base",
            "_view_module_version": "1.2.0",
            "_view_name": "StyleView",
            "bar_color": null,
            "description_width": ""
          }
        },
        "0239d9296ffa46ca9a5f2480878adcbb": {
          "model_module": "@jupyter-widgets/base",
          "model_name": "LayoutModel",
          "model_module_version": "1.2.0",
          "state": {
            "_model_module": "@jupyter-widgets/base",
            "_model_module_version": "1.2.0",
            "_model_name": "LayoutModel",
            "_view_count": null,
            "_view_module": "@jupyter-widgets/base",
            "_view_module_version": "1.2.0",
            "_view_name": "LayoutView",
            "align_content": null,
            "align_items": null,
            "align_self": null,
            "border": null,
            "bottom": null,
            "display": null,
            "flex": null,
            "flex_flow": null,
            "grid_area": null,
            "grid_auto_columns": null,
            "grid_auto_flow": null,
            "grid_auto_rows": null,
            "grid_column": null,
            "grid_gap": null,
            "grid_row": null,
            "grid_template_areas": null,
            "grid_template_columns": null,
            "grid_template_rows": null,
            "height": null,
            "justify_content": null,
            "justify_items": null,
            "left": null,
            "margin": null,
            "max_height": null,
            "max_width": null,
            "min_height": null,
            "min_width": null,
            "object_fit": null,
            "object_position": null,
            "order": null,
            "overflow": null,
            "overflow_x": null,
            "overflow_y": null,
            "padding": null,
            "right": null,
            "top": null,
            "visibility": null,
            "width": null
          }
        },
        "441d0e8a3bf34dc3a59dcbc1a72bbd72": {
          "model_module": "@jupyter-widgets/controls",
          "model_name": "DescriptionStyleModel",
          "model_module_version": "1.5.0",
          "state": {
            "_model_module": "@jupyter-widgets/controls",
            "_model_module_version": "1.5.0",
            "_model_name": "DescriptionStyleModel",
            "_view_count": null,
            "_view_module": "@jupyter-widgets/base",
            "_view_module_version": "1.2.0",
            "_view_name": "StyleView",
            "description_width": ""
          }
        }
      }
    }
  },
  "nbformat": 4,
  "nbformat_minor": 0
}